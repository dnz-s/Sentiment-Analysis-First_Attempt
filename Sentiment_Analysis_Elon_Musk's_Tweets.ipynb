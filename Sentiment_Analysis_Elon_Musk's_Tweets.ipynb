{
  "cells": [
    {
      "cell_type": "markdown",
      "metadata": {
        "id": "view-in-github",
        "colab_type": "text"
      },
      "source": [
        "<a href=\"https://colab.research.google.com/github/dnz-s/Turkish-Sentiment-Analysis-of-Tweets-First_Attempt/blob/main/Sentiment_Analysis_Elon_Musk's_Tweets.ipynb\" target=\"_parent\"><img src=\"https://colab.research.google.com/assets/colab-badge.svg\" alt=\"Open In Colab\"/></a>"
      ]
    },
    {
      "cell_type": "code",
      "execution_count": 1,
      "metadata": {
        "scrolled": false,
        "colab": {
          "base_uri": "https://localhost:8080/"
        },
        "id": "m8sAepBZass4",
        "outputId": "3781b194-65c8-479e-b40b-41640236e5df"
      },
      "outputs": [
        {
          "output_type": "stream",
          "name": "stdout",
          "text": [
            "Looking in indexes: https://pypi.org/simple, https://us-python.pkg.dev/colab-wheels/public/simple/\n",
            "Requirement already satisfied: NumPy in /usr/local/lib/python3.8/dist-packages (1.21.6)\n"
          ]
        }
      ],
      "source": [
        "pip install NumPy"
      ]
    },
    {
      "cell_type": "code",
      "execution_count": 2,
      "metadata": {
        "colab": {
          "base_uri": "https://localhost:8080/"
        },
        "id": "-HAF6Osyass5",
        "outputId": "25884c52-39d9-4239-d336-7890f9eb0c4e"
      },
      "outputs": [
        {
          "output_type": "stream",
          "name": "stdout",
          "text": [
            "Looking in indexes: https://pypi.org/simple, https://us-python.pkg.dev/colab-wheels/public/simple/\n",
            "Collecting credentials\n",
            "  Downloading credentials-1.1-py2.py3-none-any.whl (4.2 kB)\n",
            "Installing collected packages: credentials\n",
            "Successfully installed credentials-1.1\n"
          ]
        }
      ],
      "source": [
        "pip install credentials"
      ]
    },
    {
      "cell_type": "code",
      "execution_count": 3,
      "metadata": {
        "id": "64xEWGVGass5"
      },
      "outputs": [],
      "source": [
        "import tweepy           # To consume Twitter's API\n",
        "import pandas as pd     # To handle data\n",
        "import numpy as np      # For number computing\n",
        "\n",
        "# For plotting and visualization:\n",
        "from IPython.display import display\n",
        "import matplotlib.pyplot as plt\n",
        "import seaborn as sns\n",
        "%matplotlib inline"
      ]
    },
    {
      "cell_type": "code",
      "source": [
        "# Twitter App access keys for @user\n",
        "\n",
        "# Consume:\n",
        "CONSUMER_KEY    = 'CONSUMER_KEY'\n",
        "CONSUMER_SECRET = 'CONSUMER_SECRET'\n",
        "\n",
        "# Access:\n",
        "ACCESS_TOKEN  = 'ACCESS_TOKEN'\n",
        "ACCESS_SECRET = 'ACCESS_SECRET'"
      ],
      "metadata": {
        "id": "TSLkhQ-XbTca"
      },
      "execution_count": null,
      "outputs": []
    },
    {
      "cell_type": "markdown",
      "metadata": {
        "id": "9jWm2Tciass5"
      },
      "source": [
        "The reason of creating this extra file is that we want to export only the value of this variables, \n",
        "but being unseen in our main code (our notebook). We are now able to consume Twitter API. \n",
        "In order to do this, we will create a function to allow us our keys authentication. \n",
        "We will add this function in another cell of code and we will run it:"
      ]
    },
    {
      "cell_type": "code",
      "execution_count": 5,
      "metadata": {
        "id": "E_bUDjtSass6"
      },
      "outputs": [],
      "source": [
        "# We import our access keys:\n",
        "from credentials import *    # This will allow us to use the keys as variables"
      ]
    },
    {
      "cell_type": "code",
      "execution_count": 6,
      "metadata": {
        "id": "GZ3IMCHjass7"
      },
      "outputs": [],
      "source": [
        "# API's setup:\n",
        "def twitter_setup():\n",
        "    \"\"\"\n",
        "    Utility function to setup the Twitter's API\n",
        "    with our access keys provided.\n",
        "    \"\"\"\n",
        "    # Authentication and access using keys:\n",
        "    auth = tweepy.OAuthHandler(CONSUMER_KEY, CONSUMER_SECRET)\n",
        "    auth.set_access_token(ACCESS_TOKEN, ACCESS_SECRET)\n",
        "\n",
        "    # Return API with authentication:\n",
        "    api = tweepy.API(auth)\n",
        "    return api"
      ]
    },
    {
      "cell_type": "code",
      "execution_count": 7,
      "metadata": {
        "colab": {
          "base_uri": "https://localhost:8080/"
        },
        "id": "A-0Rxyp7ass7",
        "outputId": "021465d4-1022-4e9b-c022-8934b858fab8"
      },
      "outputs": [
        {
          "output_type": "stream",
          "name": "stdout",
          "text": [
            "Number of tweets extracted: 200.\n",
            "\n",
            "5 recent tweets:\n",
            "\n",
            "@farzyness Yeah\n",
            "\n",
            "@WholeMarsBlog Exactly\n",
            "\n",
            "Some nights … https://t.co/BLAUsJr4wb\n",
            "\n",
            "@MuskUniversity May it always be so. It is the most treasured item on my bedside table. https://t.co/rJ1pWlUfLs\n",
            "\n",
            "@JohnnaCrider1 They never had my name either\n",
            "\n"
          ]
        }
      ],
      "source": [
        "# We create an extractor object:\n",
        "extractor = twitter_setup()\n",
        "\n",
        "# We create a tweet list as follows:\n",
        "tweets = extractor.user_timeline(screen_name=\"ElonMusk\", count=200)\n",
        "print(\"Number of tweets extracted: {}.\\n\".format(len(tweets)))\n",
        "\n",
        "# We print the most recent 5 tweets:\n",
        "print(\"5 recent tweets:\\n\")\n",
        "for tweet in tweets[:5]:\n",
        "    print(tweet.text)\n",
        "    print()"
      ]
    },
    {
      "cell_type": "markdown",
      "metadata": {
        "id": "0knAFw4wass7"
      },
      "source": [
        "We now have initial information to construct a pandas DataFrame, in order to manipulate the info in a very easy way.\n",
        "IPython's display function plots an output in a friendly way, and the headmethod of a dataframe allows us to visualize the first 5 elements of the dataframe (or the first number of elements that are passed as an argument).\n",
        "\n",
        "So, using Python's list comprehension:"
      ]
    },
    {
      "cell_type": "code",
      "execution_count": 8,
      "metadata": {
        "id": "rXzT2eigass8"
      },
      "outputs": [],
      "source": [
        "# We create a pandas dataframe as follows:\n",
        "data = pd.DataFrame(data=[tweet.text for tweet in tweets], columns=['Tweets'])"
      ]
    },
    {
      "cell_type": "code",
      "execution_count": 9,
      "metadata": {
        "scrolled": true,
        "colab": {
          "base_uri": "https://localhost:8080/",
          "height": 363
        },
        "id": "FC3ASqEKass8",
        "outputId": "a3558627-7664-4110-c417-de5cc2add75a"
      },
      "outputs": [
        {
          "output_type": "display_data",
          "data": {
            "text/plain": [
              "                                              Tweets\n",
              "0                                    @farzyness Yeah\n",
              "1                             @WholeMarsBlog Exactly\n",
              "2              Some nights … https://t.co/BLAUsJr4wb\n",
              "3  @MuskUniversity May it always be so. It is the...\n",
              "4       @JohnnaCrider1 They never had my name either\n",
              "5                               @BillyM2k wise words\n",
              "6  @MedvedevRussiaE Those are definitely the most...\n",
              "7             @JohnnaCrider1 @MedvedevRussiaE Haha 💯\n",
              "8                                     @alifarhat79 🤣\n",
              "9                                  @JonErlichman Wow"
            ],
            "text/html": [
              "\n",
              "  <div id=\"df-07811f66-f1fa-4fd6-85b3-51f40ac1a0f7\">\n",
              "    <div class=\"colab-df-container\">\n",
              "      <div>\n",
              "<style scoped>\n",
              "    .dataframe tbody tr th:only-of-type {\n",
              "        vertical-align: middle;\n",
              "    }\n",
              "\n",
              "    .dataframe tbody tr th {\n",
              "        vertical-align: top;\n",
              "    }\n",
              "\n",
              "    .dataframe thead th {\n",
              "        text-align: right;\n",
              "    }\n",
              "</style>\n",
              "<table border=\"1\" class=\"dataframe\">\n",
              "  <thead>\n",
              "    <tr style=\"text-align: right;\">\n",
              "      <th></th>\n",
              "      <th>Tweets</th>\n",
              "    </tr>\n",
              "  </thead>\n",
              "  <tbody>\n",
              "    <tr>\n",
              "      <th>0</th>\n",
              "      <td>@farzyness Yeah</td>\n",
              "    </tr>\n",
              "    <tr>\n",
              "      <th>1</th>\n",
              "      <td>@WholeMarsBlog Exactly</td>\n",
              "    </tr>\n",
              "    <tr>\n",
              "      <th>2</th>\n",
              "      <td>Some nights … https://t.co/BLAUsJr4wb</td>\n",
              "    </tr>\n",
              "    <tr>\n",
              "      <th>3</th>\n",
              "      <td>@MuskUniversity May it always be so. It is the...</td>\n",
              "    </tr>\n",
              "    <tr>\n",
              "      <th>4</th>\n",
              "      <td>@JohnnaCrider1 They never had my name either</td>\n",
              "    </tr>\n",
              "    <tr>\n",
              "      <th>5</th>\n",
              "      <td>@BillyM2k wise words</td>\n",
              "    </tr>\n",
              "    <tr>\n",
              "      <th>6</th>\n",
              "      <td>@MedvedevRussiaE Those are definitely the most...</td>\n",
              "    </tr>\n",
              "    <tr>\n",
              "      <th>7</th>\n",
              "      <td>@JohnnaCrider1 @MedvedevRussiaE Haha 💯</td>\n",
              "    </tr>\n",
              "    <tr>\n",
              "      <th>8</th>\n",
              "      <td>@alifarhat79 🤣</td>\n",
              "    </tr>\n",
              "    <tr>\n",
              "      <th>9</th>\n",
              "      <td>@JonErlichman Wow</td>\n",
              "    </tr>\n",
              "  </tbody>\n",
              "</table>\n",
              "</div>\n",
              "      <button class=\"colab-df-convert\" onclick=\"convertToInteractive('df-07811f66-f1fa-4fd6-85b3-51f40ac1a0f7')\"\n",
              "              title=\"Convert this dataframe to an interactive table.\"\n",
              "              style=\"display:none;\">\n",
              "        \n",
              "  <svg xmlns=\"http://www.w3.org/2000/svg\" height=\"24px\"viewBox=\"0 0 24 24\"\n",
              "       width=\"24px\">\n",
              "    <path d=\"M0 0h24v24H0V0z\" fill=\"none\"/>\n",
              "    <path d=\"M18.56 5.44l.94 2.06.94-2.06 2.06-.94-2.06-.94-.94-2.06-.94 2.06-2.06.94zm-11 1L8.5 8.5l.94-2.06 2.06-.94-2.06-.94L8.5 2.5l-.94 2.06-2.06.94zm10 10l.94 2.06.94-2.06 2.06-.94-2.06-.94-.94-2.06-.94 2.06-2.06.94z\"/><path d=\"M17.41 7.96l-1.37-1.37c-.4-.4-.92-.59-1.43-.59-.52 0-1.04.2-1.43.59L10.3 9.45l-7.72 7.72c-.78.78-.78 2.05 0 2.83L4 21.41c.39.39.9.59 1.41.59.51 0 1.02-.2 1.41-.59l7.78-7.78 2.81-2.81c.8-.78.8-2.07 0-2.86zM5.41 20L4 18.59l7.72-7.72 1.47 1.35L5.41 20z\"/>\n",
              "  </svg>\n",
              "      </button>\n",
              "      \n",
              "  <style>\n",
              "    .colab-df-container {\n",
              "      display:flex;\n",
              "      flex-wrap:wrap;\n",
              "      gap: 12px;\n",
              "    }\n",
              "\n",
              "    .colab-df-convert {\n",
              "      background-color: #E8F0FE;\n",
              "      border: none;\n",
              "      border-radius: 50%;\n",
              "      cursor: pointer;\n",
              "      display: none;\n",
              "      fill: #1967D2;\n",
              "      height: 32px;\n",
              "      padding: 0 0 0 0;\n",
              "      width: 32px;\n",
              "    }\n",
              "\n",
              "    .colab-df-convert:hover {\n",
              "      background-color: #E2EBFA;\n",
              "      box-shadow: 0px 1px 2px rgba(60, 64, 67, 0.3), 0px 1px 3px 1px rgba(60, 64, 67, 0.15);\n",
              "      fill: #174EA6;\n",
              "    }\n",
              "\n",
              "    [theme=dark] .colab-df-convert {\n",
              "      background-color: #3B4455;\n",
              "      fill: #D2E3FC;\n",
              "    }\n",
              "\n",
              "    [theme=dark] .colab-df-convert:hover {\n",
              "      background-color: #434B5C;\n",
              "      box-shadow: 0px 1px 3px 1px rgba(0, 0, 0, 0.15);\n",
              "      filter: drop-shadow(0px 1px 2px rgba(0, 0, 0, 0.3));\n",
              "      fill: #FFFFFF;\n",
              "    }\n",
              "  </style>\n",
              "\n",
              "      <script>\n",
              "        const buttonEl =\n",
              "          document.querySelector('#df-07811f66-f1fa-4fd6-85b3-51f40ac1a0f7 button.colab-df-convert');\n",
              "        buttonEl.style.display =\n",
              "          google.colab.kernel.accessAllowed ? 'block' : 'none';\n",
              "\n",
              "        async function convertToInteractive(key) {\n",
              "          const element = document.querySelector('#df-07811f66-f1fa-4fd6-85b3-51f40ac1a0f7');\n",
              "          const dataTable =\n",
              "            await google.colab.kernel.invokeFunction('convertToInteractive',\n",
              "                                                     [key], {});\n",
              "          if (!dataTable) return;\n",
              "\n",
              "          const docLinkHtml = 'Like what you see? Visit the ' +\n",
              "            '<a target=\"_blank\" href=https://colab.research.google.com/notebooks/data_table.ipynb>data table notebook</a>'\n",
              "            + ' to learn more about interactive tables.';\n",
              "          element.innerHTML = '';\n",
              "          dataTable['output_type'] = 'display_data';\n",
              "          await google.colab.output.renderOutput(dataTable, element);\n",
              "          const docLink = document.createElement('div');\n",
              "          docLink.innerHTML = docLinkHtml;\n",
              "          element.appendChild(docLink);\n",
              "        }\n",
              "      </script>\n",
              "    </div>\n",
              "  </div>\n",
              "  "
            ]
          },
          "metadata": {}
        }
      ],
      "source": [
        "#We display the first 10 elements of the dataframe:\n",
        "display(data.head(10))"
      ]
    },
    {
      "cell_type": "markdown",
      "metadata": {
        "id": "1W7Qn3W3ass8"
      },
      "source": [
        "So we now have a nice table with ordered data.\n",
        "\n",
        "An interesting thing is the number if internal methods that the tweetstructure has in Tweepy:"
      ]
    },
    {
      "cell_type": "code",
      "execution_count": 10,
      "metadata": {
        "scrolled": true,
        "colab": {
          "base_uri": "https://localhost:8080/"
        },
        "id": "l8BOTaXeass8",
        "outputId": "a83a735b-e06e-45d0-b3a2-6e6287502a9d"
      },
      "outputs": [
        {
          "output_type": "stream",
          "name": "stdout",
          "text": [
            "['__class__', '__delattr__', '__dict__', '__dir__', '__doc__', '__eq__', '__format__', '__ge__', '__getattribute__', '__getstate__', '__gt__', '__hash__', '__init__', '__init_subclass__', '__le__', '__lt__', '__module__', '__ne__', '__new__', '__reduce__', '__reduce_ex__', '__repr__', '__setattr__', '__sizeof__', '__str__', '__subclasshook__', '__weakref__', '_api', '_json', 'author', 'contributors', 'coordinates', 'created_at', 'destroy', 'entities', 'favorite', 'favorite_count', 'favorited', 'geo', 'id', 'id_str', 'in_reply_to_screen_name', 'in_reply_to_status_id', 'in_reply_to_status_id_str', 'in_reply_to_user_id', 'in_reply_to_user_id_str', 'is_quote_status', 'lang', 'parse', 'parse_list', 'place', 'retweet', 'retweet_count', 'retweeted', 'retweets', 'source', 'source_url', 'text', 'truncated', 'user']\n"
          ]
        }
      ],
      "source": [
        "# Internal methods of a single tweet object:\n",
        "print(dir(tweets[0]))"
      ]
    },
    {
      "cell_type": "markdown",
      "metadata": {
        "id": "SVeMlIQwass8"
      },
      "source": [
        "#The interesting part from here is the quantity of metadata contained in a single tweet. If we want to obtain data such as the creation date, or the source of creation, we can access the info with this attributes. An example is the following:"
      ]
    },
    {
      "cell_type": "code",
      "execution_count": 11,
      "metadata": {
        "scrolled": true,
        "colab": {
          "base_uri": "https://localhost:8080/"
        },
        "id": "ZNIK7M0gass8",
        "outputId": "c449783e-38a8-4851-fd1a-1ee0ccd16024"
      },
      "outputs": [
        {
          "output_type": "stream",
          "name": "stdout",
          "text": [
            "1607597093278957568\n",
            "2022-12-27 04:39:49\n",
            "Twitter for iPhone\n",
            "11212\n",
            "475\n",
            "None\n",
            "None\n",
            "{'hashtags': [], 'symbols': [], 'user_mentions': [{'screen_name': 'farzyness', 'name': 'Farzad Mesbahi', 'id': 17862108, 'id_str': '17862108', 'indices': [0, 10]}], 'urls': []}\n"
          ]
        }
      ],
      "source": [
        "# We print info from the first tweet:\n",
        "print(tweets[0].id)\n",
        "print(tweets[0].created_at)\n",
        "print(tweets[0].source)\n",
        "print(tweets[0].favorite_count)\n",
        "print(tweets[0].retweet_count)\n",
        "print(tweets[0].geo)\n",
        "print(tweets[0].coordinates)\n",
        "print(tweets[0].entities)"
      ]
    },
    {
      "cell_type": "markdown",
      "metadata": {
        "id": "7fAy1OTzass9"
      },
      "source": [
        "Adding relevant info to our dataframe\n",
        "As we can see, we can obtain a lot of data from a single tweet. But not all this data is always useful for specific stuff. In our case we well just add some data to our dataframe. For this we will use Pythons list comprehension and a new column will be added to the dataframe by just simply adding the name of the content between square brackets and assign the content. The code goes as...:"
      ]
    },
    {
      "cell_type": "code",
      "execution_count": 12,
      "metadata": {
        "id": "22a-wjjQass9"
      },
      "outputs": [],
      "source": [
        "# We add relevant data:\n",
        "data['len']  = np.array([len(tweet.text) for tweet in tweets])\n",
        "data['ID']   = np.array([tweet.id for tweet in tweets])\n",
        "data['Date'] = np.array([tweet.created_at for tweet in tweets])\n",
        "data['Source'] = np.array([tweet.source for tweet in tweets])\n",
        "data['Likes']  = np.array([tweet.favorite_count for tweet in tweets])\n",
        "data['RTs']    = np.array([tweet.retweet_count for tweet in tweets])"
      ]
    },
    {
      "cell_type": "markdown",
      "metadata": {
        "id": "ppl6sZh9ass9"
      },
      "source": [
        "And to display again the dataframe to see the changes we just...:"
      ]
    },
    {
      "cell_type": "code",
      "execution_count": 13,
      "metadata": {
        "scrolled": true,
        "colab": {
          "base_uri": "https://localhost:8080/",
          "height": 363
        },
        "id": "VzjJNNZnass9",
        "outputId": "7a1ba2ed-7bc3-46b5-f987-84a0f23fbfa1"
      },
      "outputs": [
        {
          "output_type": "display_data",
          "data": {
            "text/plain": [
              "                                              Tweets  len  \\\n",
              "0                                    @farzyness Yeah   15   \n",
              "1                             @WholeMarsBlog Exactly   22   \n",
              "2              Some nights … https://t.co/BLAUsJr4wb   37   \n",
              "3  @MuskUniversity May it always be so. It is the...  111   \n",
              "4       @JohnnaCrider1 They never had my name either   44   \n",
              "5                               @BillyM2k wise words   20   \n",
              "6  @MedvedevRussiaE Those are definitely the most...  140   \n",
              "7             @JohnnaCrider1 @MedvedevRussiaE Haha 💯   38   \n",
              "8                                     @alifarhat79 🤣   14   \n",
              "9                                  @JonErlichman Wow   17   \n",
              "\n",
              "                    ID                Date              Source   Likes    RTs  \n",
              "0  1607597093278957568 2022-12-27 04:39:49  Twitter for iPhone   11212    475  \n",
              "1  1607593196871188480 2022-12-27 04:24:20  Twitter for iPhone    4875    203  \n",
              "2  1607590239874211847 2022-12-27 04:12:35  Twitter for iPhone  346602  23245  \n",
              "3  1607584023932719104 2022-12-27 03:47:53  Twitter for iPhone   28898   2331  \n",
              "4  1607581330673668103 2022-12-27 03:37:11  Twitter for iPhone   34430   1028  \n",
              "5  1607575338967568384 2022-12-27 03:13:22  Twitter for iPhone    5638    278  \n",
              "6  1607565268150091778 2022-12-27 02:33:21  Twitter for iPhone   17106    899  \n",
              "7  1607560938458157056 2022-12-27 02:16:09  Twitter for iPhone    4019    183  \n",
              "8  1607539589735923712 2022-12-27 00:51:19  Twitter for iPhone   10815    428  \n",
              "9  1607530626923786242 2022-12-27 00:15:42  Twitter for iPhone   40312   1357  "
            ],
            "text/html": [
              "\n",
              "  <div id=\"df-6d60b6ba-65c7-4825-ab43-b4d20448bdeb\">\n",
              "    <div class=\"colab-df-container\">\n",
              "      <div>\n",
              "<style scoped>\n",
              "    .dataframe tbody tr th:only-of-type {\n",
              "        vertical-align: middle;\n",
              "    }\n",
              "\n",
              "    .dataframe tbody tr th {\n",
              "        vertical-align: top;\n",
              "    }\n",
              "\n",
              "    .dataframe thead th {\n",
              "        text-align: right;\n",
              "    }\n",
              "</style>\n",
              "<table border=\"1\" class=\"dataframe\">\n",
              "  <thead>\n",
              "    <tr style=\"text-align: right;\">\n",
              "      <th></th>\n",
              "      <th>Tweets</th>\n",
              "      <th>len</th>\n",
              "      <th>ID</th>\n",
              "      <th>Date</th>\n",
              "      <th>Source</th>\n",
              "      <th>Likes</th>\n",
              "      <th>RTs</th>\n",
              "    </tr>\n",
              "  </thead>\n",
              "  <tbody>\n",
              "    <tr>\n",
              "      <th>0</th>\n",
              "      <td>@farzyness Yeah</td>\n",
              "      <td>15</td>\n",
              "      <td>1607597093278957568</td>\n",
              "      <td>2022-12-27 04:39:49</td>\n",
              "      <td>Twitter for iPhone</td>\n",
              "      <td>11212</td>\n",
              "      <td>475</td>\n",
              "    </tr>\n",
              "    <tr>\n",
              "      <th>1</th>\n",
              "      <td>@WholeMarsBlog Exactly</td>\n",
              "      <td>22</td>\n",
              "      <td>1607593196871188480</td>\n",
              "      <td>2022-12-27 04:24:20</td>\n",
              "      <td>Twitter for iPhone</td>\n",
              "      <td>4875</td>\n",
              "      <td>203</td>\n",
              "    </tr>\n",
              "    <tr>\n",
              "      <th>2</th>\n",
              "      <td>Some nights … https://t.co/BLAUsJr4wb</td>\n",
              "      <td>37</td>\n",
              "      <td>1607590239874211847</td>\n",
              "      <td>2022-12-27 04:12:35</td>\n",
              "      <td>Twitter for iPhone</td>\n",
              "      <td>346602</td>\n",
              "      <td>23245</td>\n",
              "    </tr>\n",
              "    <tr>\n",
              "      <th>3</th>\n",
              "      <td>@MuskUniversity May it always be so. It is the...</td>\n",
              "      <td>111</td>\n",
              "      <td>1607584023932719104</td>\n",
              "      <td>2022-12-27 03:47:53</td>\n",
              "      <td>Twitter for iPhone</td>\n",
              "      <td>28898</td>\n",
              "      <td>2331</td>\n",
              "    </tr>\n",
              "    <tr>\n",
              "      <th>4</th>\n",
              "      <td>@JohnnaCrider1 They never had my name either</td>\n",
              "      <td>44</td>\n",
              "      <td>1607581330673668103</td>\n",
              "      <td>2022-12-27 03:37:11</td>\n",
              "      <td>Twitter for iPhone</td>\n",
              "      <td>34430</td>\n",
              "      <td>1028</td>\n",
              "    </tr>\n",
              "    <tr>\n",
              "      <th>5</th>\n",
              "      <td>@BillyM2k wise words</td>\n",
              "      <td>20</td>\n",
              "      <td>1607575338967568384</td>\n",
              "      <td>2022-12-27 03:13:22</td>\n",
              "      <td>Twitter for iPhone</td>\n",
              "      <td>5638</td>\n",
              "      <td>278</td>\n",
              "    </tr>\n",
              "    <tr>\n",
              "      <th>6</th>\n",
              "      <td>@MedvedevRussiaE Those are definitely the most...</td>\n",
              "      <td>140</td>\n",
              "      <td>1607565268150091778</td>\n",
              "      <td>2022-12-27 02:33:21</td>\n",
              "      <td>Twitter for iPhone</td>\n",
              "      <td>17106</td>\n",
              "      <td>899</td>\n",
              "    </tr>\n",
              "    <tr>\n",
              "      <th>7</th>\n",
              "      <td>@JohnnaCrider1 @MedvedevRussiaE Haha 💯</td>\n",
              "      <td>38</td>\n",
              "      <td>1607560938458157056</td>\n",
              "      <td>2022-12-27 02:16:09</td>\n",
              "      <td>Twitter for iPhone</td>\n",
              "      <td>4019</td>\n",
              "      <td>183</td>\n",
              "    </tr>\n",
              "    <tr>\n",
              "      <th>8</th>\n",
              "      <td>@alifarhat79 🤣</td>\n",
              "      <td>14</td>\n",
              "      <td>1607539589735923712</td>\n",
              "      <td>2022-12-27 00:51:19</td>\n",
              "      <td>Twitter for iPhone</td>\n",
              "      <td>10815</td>\n",
              "      <td>428</td>\n",
              "    </tr>\n",
              "    <tr>\n",
              "      <th>9</th>\n",
              "      <td>@JonErlichman Wow</td>\n",
              "      <td>17</td>\n",
              "      <td>1607530626923786242</td>\n",
              "      <td>2022-12-27 00:15:42</td>\n",
              "      <td>Twitter for iPhone</td>\n",
              "      <td>40312</td>\n",
              "      <td>1357</td>\n",
              "    </tr>\n",
              "  </tbody>\n",
              "</table>\n",
              "</div>\n",
              "      <button class=\"colab-df-convert\" onclick=\"convertToInteractive('df-6d60b6ba-65c7-4825-ab43-b4d20448bdeb')\"\n",
              "              title=\"Convert this dataframe to an interactive table.\"\n",
              "              style=\"display:none;\">\n",
              "        \n",
              "  <svg xmlns=\"http://www.w3.org/2000/svg\" height=\"24px\"viewBox=\"0 0 24 24\"\n",
              "       width=\"24px\">\n",
              "    <path d=\"M0 0h24v24H0V0z\" fill=\"none\"/>\n",
              "    <path d=\"M18.56 5.44l.94 2.06.94-2.06 2.06-.94-2.06-.94-.94-2.06-.94 2.06-2.06.94zm-11 1L8.5 8.5l.94-2.06 2.06-.94-2.06-.94L8.5 2.5l-.94 2.06-2.06.94zm10 10l.94 2.06.94-2.06 2.06-.94-2.06-.94-.94-2.06-.94 2.06-2.06.94z\"/><path d=\"M17.41 7.96l-1.37-1.37c-.4-.4-.92-.59-1.43-.59-.52 0-1.04.2-1.43.59L10.3 9.45l-7.72 7.72c-.78.78-.78 2.05 0 2.83L4 21.41c.39.39.9.59 1.41.59.51 0 1.02-.2 1.41-.59l7.78-7.78 2.81-2.81c.8-.78.8-2.07 0-2.86zM5.41 20L4 18.59l7.72-7.72 1.47 1.35L5.41 20z\"/>\n",
              "  </svg>\n",
              "      </button>\n",
              "      \n",
              "  <style>\n",
              "    .colab-df-container {\n",
              "      display:flex;\n",
              "      flex-wrap:wrap;\n",
              "      gap: 12px;\n",
              "    }\n",
              "\n",
              "    .colab-df-convert {\n",
              "      background-color: #E8F0FE;\n",
              "      border: none;\n",
              "      border-radius: 50%;\n",
              "      cursor: pointer;\n",
              "      display: none;\n",
              "      fill: #1967D2;\n",
              "      height: 32px;\n",
              "      padding: 0 0 0 0;\n",
              "      width: 32px;\n",
              "    }\n",
              "\n",
              "    .colab-df-convert:hover {\n",
              "      background-color: #E2EBFA;\n",
              "      box-shadow: 0px 1px 2px rgba(60, 64, 67, 0.3), 0px 1px 3px 1px rgba(60, 64, 67, 0.15);\n",
              "      fill: #174EA6;\n",
              "    }\n",
              "\n",
              "    [theme=dark] .colab-df-convert {\n",
              "      background-color: #3B4455;\n",
              "      fill: #D2E3FC;\n",
              "    }\n",
              "\n",
              "    [theme=dark] .colab-df-convert:hover {\n",
              "      background-color: #434B5C;\n",
              "      box-shadow: 0px 1px 3px 1px rgba(0, 0, 0, 0.15);\n",
              "      filter: drop-shadow(0px 1px 2px rgba(0, 0, 0, 0.3));\n",
              "      fill: #FFFFFF;\n",
              "    }\n",
              "  </style>\n",
              "\n",
              "      <script>\n",
              "        const buttonEl =\n",
              "          document.querySelector('#df-6d60b6ba-65c7-4825-ab43-b4d20448bdeb button.colab-df-convert');\n",
              "        buttonEl.style.display =\n",
              "          google.colab.kernel.accessAllowed ? 'block' : 'none';\n",
              "\n",
              "        async function convertToInteractive(key) {\n",
              "          const element = document.querySelector('#df-6d60b6ba-65c7-4825-ab43-b4d20448bdeb');\n",
              "          const dataTable =\n",
              "            await google.colab.kernel.invokeFunction('convertToInteractive',\n",
              "                                                     [key], {});\n",
              "          if (!dataTable) return;\n",
              "\n",
              "          const docLinkHtml = 'Like what you see? Visit the ' +\n",
              "            '<a target=\"_blank\" href=https://colab.research.google.com/notebooks/data_table.ipynb>data table notebook</a>'\n",
              "            + ' to learn more about interactive tables.';\n",
              "          element.innerHTML = '';\n",
              "          dataTable['output_type'] = 'display_data';\n",
              "          await google.colab.output.renderOutput(dataTable, element);\n",
              "          const docLink = document.createElement('div');\n",
              "          docLink.innerHTML = docLinkHtml;\n",
              "          element.appendChild(docLink);\n",
              "        }\n",
              "      </script>\n",
              "    </div>\n",
              "  </div>\n",
              "  "
            ]
          },
          "metadata": {}
        }
      ],
      "source": [
        "# Display of first 10 elements from dataframe:\n",
        "display(data.head(10))"
      ]
    },
    {
      "cell_type": "markdown",
      "metadata": {
        "id": "sz1yAzJvass9"
      },
      "source": [
        "Averages and popularity\n",
        "We first want to calculate some basic statistical data, such as the mean of the length of characters of all tweets, the tweet with more likes and retweets, etc.\n",
        "\n",
        "From now, I'll just add some input code and the output right below the code.\n",
        "\n",
        "To obtain the mean, using numpy:"
      ]
    },
    {
      "cell_type": "code",
      "execution_count": 14,
      "metadata": {
        "colab": {
          "base_uri": "https://localhost:8080/"
        },
        "id": "kqAtVpGYass9",
        "outputId": "13a1366f-dbc8-4e5d-d81e-6f7f617156a1"
      },
      "outputs": [
        {
          "output_type": "stream",
          "name": "stdout",
          "text": [
            "The lenght's average in tweets: 56.5\n"
          ]
        }
      ],
      "source": [
        "# We extract the mean of lenghts:\n",
        "mean = np.mean(data['len'])\n",
        "\n",
        "print(\"The lenght's average in tweets: {}\".format(mean))"
      ]
    },
    {
      "cell_type": "code",
      "execution_count": 15,
      "metadata": {
        "colab": {
          "base_uri": "https://localhost:8080/"
        },
        "id": "lRT2ax5yass9",
        "outputId": "e2757c5b-548c-4322-db4e-731bec35300c"
      },
      "outputs": [
        {
          "output_type": "stream",
          "name": "stdout",
          "text": [
            "The tweet with more likes is: \n",
            "Tweets are read ~100 times more than they are liked\n",
            "Number of likes: 566434\n",
            "51 characters.\n",
            "\n",
            "The tweet with more retweets is: \n",
            "Government paid Twitter millions of dollars to censor info from the public https://t.co/eSEwcZlGjt\n",
            "Number of retweets: 91027\n",
            "98 characters.\n",
            "\n"
          ]
        }
      ],
      "source": [
        "# We extract the tweet with more FAVs and more RTs:\n",
        "\n",
        "fav_max = np.max(data['Likes'])\n",
        "rt_max  = np.max(data['RTs'])\n",
        "\n",
        "fav = data[data.Likes == fav_max].index[0]\n",
        "rt  = data[data.RTs == rt_max].index[0]\n",
        "\n",
        "# Max FAVs:\n",
        "print(\"The tweet with more likes is: \\n{}\".format(data['Tweets'][fav]))\n",
        "print(\"Number of likes: {}\".format(fav_max))\n",
        "print(\"{} characters.\\n\".format(data['len'][fav]))\n",
        "\n",
        "# Max RTs:\n",
        "print(\"The tweet with more retweets is: \\n{}\".format(data['Tweets'][rt]))\n",
        "print(\"Number of retweets: {}\".format(rt_max))\n",
        "print(\"{} characters.\\n\".format(data['len'][rt]))"
      ]
    },
    {
      "cell_type": "code",
      "execution_count": 16,
      "metadata": {
        "id": "5NGAypAEass9"
      },
      "outputs": [],
      "source": [
        "# We create time series for data:\n",
        "\n",
        "tlen = pd.Series(data=data['len'].values, index=data['Date'])\n",
        "tfav = pd.Series(data=data['Likes'].values, index=data['Date'])\n",
        "tret = pd.Series(data=data['RTs'].values, index=data['Date'])"
      ]
    },
    {
      "cell_type": "code",
      "execution_count": 17,
      "metadata": {
        "colab": {
          "base_uri": "https://localhost:8080/",
          "height": 285
        },
        "id": "S8DonydEass9",
        "outputId": "cdf4b022-cdbd-4e53-f241-fc045cdfdc93"
      },
      "outputs": [
        {
          "output_type": "display_data",
          "data": {
            "text/plain": [
              "<Figure size 1152x288 with 1 Axes>"
            ],
            "image/png": "[encoded data removed]"
          },
          "metadata": {
            "needs_background": "light"
          }
        }
      ],
      "source": [
        "# Lenghts along time:\n",
        "tlen.plot(figsize=(16,4), color='r');"
      ]
    },
    {
      "cell_type": "code",
      "execution_count": 18,
      "metadata": {
        "colab": {
          "base_uri": "https://localhost:8080/",
          "height": 285
        },
        "id": "yijWmFEOass9",
        "outputId": "80ee8941-f656-4184-feba-54ae6d70bb31"
      },
      "outputs": [
        {
          "output_type": "display_data",
          "data": {
            "text/plain": [
              "<Figure size 1152x288 with 1 Axes>"
            ],
            "image/png": "[encoded data removed]"
          },
          "metadata": {
            "needs_background": "light"
          }
        }
      ],
      "source": [
        "# Likes vs retweets visualization:\n",
        "tfav.plot(figsize=(16,4), label=\"Likes\", legend=True)\n",
        "tret.plot(figsize=(16,4), label=\"Retweets\", legend=True);"
      ]
    },
    {
      "cell_type": "code",
      "execution_count": 19,
      "metadata": {
        "colab": {
          "base_uri": "https://localhost:8080/"
        },
        "id": "HEweIgpwass9",
        "outputId": "836f9f18-f0e1-4c3c-cfdd-dabd8558803c"
      },
      "outputs": [
        {
          "output_type": "stream",
          "name": "stdout",
          "text": [
            "Creation of content sources:\n",
            "* Twitter for iPhone\n"
          ]
        }
      ],
      "source": [
        "# We obtain all possible sources:\n",
        "sources = []\n",
        "for source in data['Source']:\n",
        "    if source not in sources:\n",
        "        sources.append(source)\n",
        "\n",
        "# We print sources list:\n",
        "print(\"Creation of content sources:\")\n",
        "for source in sources:\n",
        "    print(\"* {}\".format(source))"
      ]
    },
    {
      "cell_type": "code",
      "execution_count": 20,
      "metadata": {
        "scrolled": true,
        "colab": {
          "base_uri": "https://localhost:8080/",
          "height": 357
        },
        "id": "fonYPQcyass-",
        "outputId": "68f82939-638f-4304-f7c2-3c201247be81"
      },
      "outputs": [
        {
          "output_type": "display_data",
          "data": {
            "text/plain": [
              "<Figure size 432x432 with 1 Axes>"
            ],
            "image/png": "[encoded data removed]"
          },
          "metadata": {}
        }
      ],
      "source": [
        "# We create a numpy vector mapped to labels:\n",
        "percent = np.zeros(len(sources))\n",
        "\n",
        "for source in data['Source']:\n",
        "    for index in range(len(sources)):\n",
        "        if source == sources[index]:\n",
        "            percent[index] += 1\n",
        "            pass\n",
        "\n",
        "percent /= 100\n",
        "\n",
        "# Pie chart:\n",
        "pie_chart = pd.Series(percent, index=sources, name='Sources')\n",
        "pie_chart.plot.pie(fontsize=11, autopct='%.2f', figsize=(6, 6));"
      ]
    },
    {
      "cell_type": "code",
      "execution_count": 21,
      "metadata": {
        "id": "beuFusScass-"
      },
      "outputs": [],
      "source": [
        "from textblob import TextBlob\n",
        "import re"
      ]
    },
    {
      "cell_type": "code",
      "execution_count": 22,
      "metadata": {
        "id": "dOyzZr_Gass-"
      },
      "outputs": [],
      "source": [
        "def clean_tweet(tweet):\n",
        "    '''\n",
        "    Utility function to clean the text in a tweet by removing\n",
        "    links and special characters using regex.\n",
        "    '''\n",
        "    return ' '.join(re.sub(\"(@[A-Za-z0-9]+)|([^0-9A-Za-z \\t])|(\\w+:\\/\\/\\S+)\", \" \", tweet).split())\n"
      ]
    },
    {
      "cell_type": "code",
      "execution_count": 23,
      "metadata": {
        "id": "TcATLgxeass-"
      },
      "outputs": [],
      "source": [
        "def analize_sentiment(tweet):\n",
        "    '''\n",
        "    Utility function to classify the polarity of a tweet\n",
        "    using textblob.\n",
        "    '''\n",
        "    analysis = TextBlob(clean_tweet(tweet))\n",
        "    if analysis.sentiment.polarity > 0:\n",
        "        return 1\n",
        "    elif analysis.sentiment.polarity == 0:\n",
        "        return 0\n",
        "    else:\n",
        "        return -1"
      ]
    },
    {
      "cell_type": "code",
      "execution_count": 24,
      "metadata": {
        "scrolled": false,
        "colab": {
          "base_uri": "https://localhost:8080/",
          "height": 363
        },
        "id": "WDSl1Y5xass-",
        "outputId": "76746df7-e2f7-4942-eaf4-b6b5bf8b356b"
      },
      "outputs": [
        {
          "output_type": "display_data",
          "data": {
            "text/plain": [
              "                                              Tweets  len  \\\n",
              "0                                    @farzyness Yeah   15   \n",
              "1                             @WholeMarsBlog Exactly   22   \n",
              "2              Some nights … https://t.co/BLAUsJr4wb   37   \n",
              "3  @MuskUniversity May it always be so. It is the...  111   \n",
              "4       @JohnnaCrider1 They never had my name either   44   \n",
              "5                               @BillyM2k wise words   20   \n",
              "6  @MedvedevRussiaE Those are definitely the most...  140   \n",
              "7             @JohnnaCrider1 @MedvedevRussiaE Haha 💯   38   \n",
              "8                                     @alifarhat79 🤣   14   \n",
              "9                                  @JonErlichman Wow   17   \n",
              "\n",
              "                    ID                Date              Source   Likes    RTs  \\\n",
              "0  1607597093278957568 2022-12-27 04:39:49  Twitter for iPhone   11212    475   \n",
              "1  1607593196871188480 2022-12-27 04:24:20  Twitter for iPhone    4875    203   \n",
              "2  1607590239874211847 2022-12-27 04:12:35  Twitter for iPhone  346602  23245   \n",
              "3  1607584023932719104 2022-12-27 03:47:53  Twitter for iPhone   28898   2331   \n",
              "4  1607581330673668103 2022-12-27 03:37:11  Twitter for iPhone   34430   1028   \n",
              "5  1607575338967568384 2022-12-27 03:13:22  Twitter for iPhone    5638    278   \n",
              "6  1607565268150091778 2022-12-27 02:33:21  Twitter for iPhone   17106    899   \n",
              "7  1607560938458157056 2022-12-27 02:16:09  Twitter for iPhone    4019    183   \n",
              "8  1607539589735923712 2022-12-27 00:51:19  Twitter for iPhone   10815    428   \n",
              "9  1607530626923786242 2022-12-27 00:15:42  Twitter for iPhone   40312   1357   \n",
              "\n",
              "   SA  \n",
              "0   0  \n",
              "1   1  \n",
              "2   0  \n",
              "3   1  \n",
              "4   0  \n",
              "5   1  \n",
              "6   1  \n",
              "7   1  \n",
              "8   0  \n",
              "9   1  "
            ],
            "text/html": [
              "\n",
              "  <div id=\"df-0933681f-c813-488b-8d27-a02607f5aa3b\">\n",
              "    <div class=\"colab-df-container\">\n",
              "      <div>\n",
              "<style scoped>\n",
              "    .dataframe tbody tr th:only-of-type {\n",
              "        vertical-align: middle;\n",
              "    }\n",
              "\n",
              "    .dataframe tbody tr th {\n",
              "        vertical-align: top;\n",
              "    }\n",
              "\n",
              "    .dataframe thead th {\n",
              "        text-align: right;\n",
              "    }\n",
              "</style>\n",
              "<table border=\"1\" class=\"dataframe\">\n",
              "  <thead>\n",
              "    <tr style=\"text-align: right;\">\n",
              "      <th></th>\n",
              "      <th>Tweets</th>\n",
              "      <th>len</th>\n",
              "      <th>ID</th>\n",
              "      <th>Date</th>\n",
              "      <th>Source</th>\n",
              "      <th>Likes</th>\n",
              "      <th>RTs</th>\n",
              "      <th>SA</th>\n",
              "    </tr>\n",
              "  </thead>\n",
              "  <tbody>\n",
              "    <tr>\n",
              "      <th>0</th>\n",
              "      <td>@farzyness Yeah</td>\n",
              "      <td>15</td>\n",
              "      <td>1607597093278957568</td>\n",
              "      <td>2022-12-27 04:39:49</td>\n",
              "      <td>Twitter for iPhone</td>\n",
              "      <td>11212</td>\n",
              "      <td>475</td>\n",
              "      <td>0</td>\n",
              "    </tr>\n",
              "    <tr>\n",
              "      <th>1</th>\n",
              "      <td>@WholeMarsBlog Exactly</td>\n",
              "      <td>22</td>\n",
              "      <td>1607593196871188480</td>\n",
              "      <td>2022-12-27 04:24:20</td>\n",
              "      <td>Twitter for iPhone</td>\n",
              "      <td>4875</td>\n",
              "      <td>203</td>\n",
              "      <td>1</td>\n",
              "    </tr>\n",
              "    <tr>\n",
              "      <th>2</th>\n",
              "      <td>Some nights … https://t.co/BLAUsJr4wb</td>\n",
              "      <td>37</td>\n",
              "      <td>1607590239874211847</td>\n",
              "      <td>2022-12-27 04:12:35</td>\n",
              "      <td>Twitter for iPhone</td>\n",
              "      <td>346602</td>\n",
              "      <td>23245</td>\n",
              "      <td>0</td>\n",
              "    </tr>\n",
              "    <tr>\n",
              "      <th>3</th>\n",
              "      <td>@MuskUniversity May it always be so. It is the...</td>\n",
              "      <td>111</td>\n",
              "      <td>1607584023932719104</td>\n",
              "      <td>2022-12-27 03:47:53</td>\n",
              "      <td>Twitter for iPhone</td>\n",
              "      <td>28898</td>\n",
              "      <td>2331</td>\n",
              "      <td>1</td>\n",
              "    </tr>\n",
              "    <tr>\n",
              "      <th>4</th>\n",
              "      <td>@JohnnaCrider1 They never had my name either</td>\n",
              "      <td>44</td>\n",
              "      <td>1607581330673668103</td>\n",
              "      <td>2022-12-27 03:37:11</td>\n",
              "      <td>Twitter for iPhone</td>\n",
              "      <td>34430</td>\n",
              "      <td>1028</td>\n",
              "      <td>0</td>\n",
              "    </tr>\n",
              "    <tr>\n",
              "      <th>5</th>\n",
              "      <td>@BillyM2k wise words</td>\n",
              "      <td>20</td>\n",
              "      <td>1607575338967568384</td>\n",
              "      <td>2022-12-27 03:13:22</td>\n",
              "      <td>Twitter for iPhone</td>\n",
              "      <td>5638</td>\n",
              "      <td>278</td>\n",
              "      <td>1</td>\n",
              "    </tr>\n",
              "    <tr>\n",
              "      <th>6</th>\n",
              "      <td>@MedvedevRussiaE Those are definitely the most...</td>\n",
              "      <td>140</td>\n",
              "      <td>1607565268150091778</td>\n",
              "      <td>2022-12-27 02:33:21</td>\n",
              "      <td>Twitter for iPhone</td>\n",
              "      <td>17106</td>\n",
              "      <td>899</td>\n",
              "      <td>1</td>\n",
              "    </tr>\n",
              "    <tr>\n",
              "      <th>7</th>\n",
              "      <td>@JohnnaCrider1 @MedvedevRussiaE Haha 💯</td>\n",
              "      <td>38</td>\n",
              "      <td>1607560938458157056</td>\n",
              "      <td>2022-12-27 02:16:09</td>\n",
              "      <td>Twitter for iPhone</td>\n",
              "      <td>4019</td>\n",
              "      <td>183</td>\n",
              "      <td>1</td>\n",
              "    </tr>\n",
              "    <tr>\n",
              "      <th>8</th>\n",
              "      <td>@alifarhat79 🤣</td>\n",
              "      <td>14</td>\n",
              "      <td>1607539589735923712</td>\n",
              "      <td>2022-12-27 00:51:19</td>\n",
              "      <td>Twitter for iPhone</td>\n",
              "      <td>10815</td>\n",
              "      <td>428</td>\n",
              "      <td>0</td>\n",
              "    </tr>\n",
              "    <tr>\n",
              "      <th>9</th>\n",
              "      <td>@JonErlichman Wow</td>\n",
              "      <td>17</td>\n",
              "      <td>1607530626923786242</td>\n",
              "      <td>2022-12-27 00:15:42</td>\n",
              "      <td>Twitter for iPhone</td>\n",
              "      <td>40312</td>\n",
              "      <td>1357</td>\n",
              "      <td>1</td>\n",
              "    </tr>\n",
              "  </tbody>\n",
              "</table>\n",
              "</div>\n",
              "      <button class=\"colab-df-convert\" onclick=\"convertToInteractive('df-0933681f-c813-488b-8d27-a02607f5aa3b')\"\n",
              "              title=\"Convert this dataframe to an interactive table.\"\n",
              "              style=\"display:none;\">\n",
              "        \n",
              "  <svg xmlns=\"http://www.w3.org/2000/svg\" height=\"24px\"viewBox=\"0 0 24 24\"\n",
              "       width=\"24px\">\n",
              "    <path d=\"M0 0h24v24H0V0z\" fill=\"none\"/>\n",
              "    <path d=\"M18.56 5.44l.94 2.06.94-2.06 2.06-.94-2.06-.94-.94-2.06-.94 2.06-2.06.94zm-11 1L8.5 8.5l.94-2.06 2.06-.94-2.06-.94L8.5 2.5l-.94 2.06-2.06.94zm10 10l.94 2.06.94-2.06 2.06-.94-2.06-.94-.94-2.06-.94 2.06-2.06.94z\"/><path d=\"M17.41 7.96l-1.37-1.37c-.4-.4-.92-.59-1.43-.59-.52 0-1.04.2-1.43.59L10.3 9.45l-7.72 7.72c-.78.78-.78 2.05 0 2.83L4 21.41c.39.39.9.59 1.41.59.51 0 1.02-.2 1.41-.59l7.78-7.78 2.81-2.81c.8-.78.8-2.07 0-2.86zM5.41 20L4 18.59l7.72-7.72 1.47 1.35L5.41 20z\"/>\n",
              "  </svg>\n",
              "      </button>\n",
              "      \n",
              "  <style>\n",
              "    .colab-df-container {\n",
              "      display:flex;\n",
              "      flex-wrap:wrap;\n",
              "      gap: 12px;\n",
              "    }\n",
              "\n",
              "    .colab-df-convert {\n",
              "      background-color: #E8F0FE;\n",
              "      border: none;\n",
              "      border-radius: 50%;\n",
              "      cursor: pointer;\n",
              "      display: none;\n",
              "      fill: #1967D2;\n",
              "      height: 32px;\n",
              "      padding: 0 0 0 0;\n",
              "      width: 32px;\n",
              "    }\n",
              "\n",
              "    .colab-df-convert:hover {\n",
              "      background-color: #E2EBFA;\n",
              "      box-shadow: 0px 1px 2px rgba(60, 64, 67, 0.3), 0px 1px 3px 1px rgba(60, 64, 67, 0.15);\n",
              "      fill: #174EA6;\n",
              "    }\n",
              "\n",
              "    [theme=dark] .colab-df-convert {\n",
              "      background-color: #3B4455;\n",
              "      fill: #D2E3FC;\n",
              "    }\n",
              "\n",
              "    [theme=dark] .colab-df-convert:hover {\n",
              "      background-color: #434B5C;\n",
              "      box-shadow: 0px 1px 3px 1px rgba(0, 0, 0, 0.15);\n",
              "      filter: drop-shadow(0px 1px 2px rgba(0, 0, 0, 0.3));\n",
              "      fill: #FFFFFF;\n",
              "    }\n",
              "  </style>\n",
              "\n",
              "      <script>\n",
              "        const buttonEl =\n",
              "          document.querySelector('#df-0933681f-c813-488b-8d27-a02607f5aa3b button.colab-df-convert');\n",
              "        buttonEl.style.display =\n",
              "          google.colab.kernel.accessAllowed ? 'block' : 'none';\n",
              "\n",
              "        async function convertToInteractive(key) {\n",
              "          const element = document.querySelector('#df-0933681f-c813-488b-8d27-a02607f5aa3b');\n",
              "          const dataTable =\n",
              "            await google.colab.kernel.invokeFunction('convertToInteractive',\n",
              "                                                     [key], {});\n",
              "          if (!dataTable) return;\n",
              "\n",
              "          const docLinkHtml = 'Like what you see? Visit the ' +\n",
              "            '<a target=\"_blank\" href=https://colab.research.google.com/notebooks/data_table.ipynb>data table notebook</a>'\n",
              "            + ' to learn more about interactive tables.';\n",
              "          element.innerHTML = '';\n",
              "          dataTable['output_type'] = 'display_data';\n",
              "          await google.colab.output.renderOutput(dataTable, element);\n",
              "          const docLink = document.createElement('div');\n",
              "          docLink.innerHTML = docLinkHtml;\n",
              "          element.appendChild(docLink);\n",
              "        }\n",
              "      </script>\n",
              "    </div>\n",
              "  </div>\n",
              "  "
            ]
          },
          "metadata": {}
        }
      ],
      "source": [
        "# We create a column with the result of the analysis:\n",
        "data['SA'] = np.array([ analize_sentiment(tweet) for tweet in data['Tweets'] ])\n",
        "\n",
        "# We display the updated dataframe with the new column:\n",
        "display(data.head(10))"
      ]
    },
    {
      "cell_type": "code",
      "execution_count": 25,
      "metadata": {
        "id": "TqTg6_-Nass-"
      },
      "outputs": [],
      "source": [
        "data.to_excel('output1.xlsx')"
      ]
    },
    {
      "cell_type": "code",
      "execution_count": 26,
      "metadata": {
        "id": "7vYk0ZWEass-"
      },
      "outputs": [],
      "source": [
        "# We construct lists with classified tweets:\n",
        "\n",
        "pos_tweets = [ tweet for index, tweet in enumerate(data['Tweets']) if data['SA'][index] > 0]\n",
        "neu_tweets = [ tweet for index, tweet in enumerate(data['Tweets']) if data['SA'][index] == 0]\n",
        "neg_tweets = [ tweet for index, tweet in enumerate(data['Tweets']) if data['SA'][index] < 0]\n"
      ]
    },
    {
      "cell_type": "code",
      "execution_count": 27,
      "metadata": {
        "colab": {
          "base_uri": "https://localhost:8080/"
        },
        "id": "e_BWhKI5ass-",
        "outputId": "a5080b4e-3415-427f-9bd5-34d71393bf02"
      },
      "outputs": [
        {
          "output_type": "stream",
          "name": "stdout",
          "text": [
            "Percentage of positive tweets: 42.0%\n",
            "Percentage of neutral tweets: 49.5%\n",
            "Percentage de negative tweets: 8.5%\n"
          ]
        }
      ],
      "source": [
        "# We print percentages:\n",
        "\n",
        "print(\"Percentage of positive tweets: {}%\".format(len(pos_tweets)*100/len(data['Tweets'])))\n",
        "print(\"Percentage of neutral tweets: {}%\".format(len(neu_tweets)*100/len(data['Tweets'])))\n",
        "print(\"Percentage de negative tweets: {}%\".format(len(neg_tweets)*100/len(data['Tweets'])))\n"
      ]
    }
  ],
  "metadata": {
    "kernelspec": {
      "display_name": "Python 3",
      "language": "python",
      "name": "python3"
    },
    "language_info": {
      "codemirror_mode": {
        "name": "ipython",
        "version": 3
      },
      "file_extension": ".py",
      "mimetype": "text/x-python",
      "name": "python",
      "nbconvert_exporter": "python",
      "pygments_lexer": "ipython3",
      "version": "3.8.5"
    },
    "colab": {
      "provenance": [],
      "include_colab_link": true
    }
  },
  "nbformat": 4,
  "nbformat_minor": 0
}