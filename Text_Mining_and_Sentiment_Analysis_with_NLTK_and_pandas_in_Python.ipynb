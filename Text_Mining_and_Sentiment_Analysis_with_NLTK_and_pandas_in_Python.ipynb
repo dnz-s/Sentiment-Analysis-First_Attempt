{
  "nbformat": 4,
  "nbformat_minor": 0,
  "metadata": {
    "colab": {
      "provenance": [],
      "authorship_tag": "ABX9TyP36GlbKXiu53jgKvW92mZE",
      "include_colab_link": true
    },
    "kernelspec": {
      "name": "python3",
      "display_name": "Python 3"
    },
    "language_info": {
      "name": "python"
    }
  },
  "cells": [
    {
      "cell_type": "markdown",
      "metadata": {
        "id": "view-in-github",
        "colab_type": "text"
      },
      "source": [
        "<a href=\"https://colab.research.google.com/github/dnz-s/Turkish-Sentiment-Analysis-of-Tweets-First_Attempts/blob/main/Text_Mining_and_Sentiment_Analysis_with_NLTK_and_pandas_in_Python.ipynb\" target=\"_parent\"><img src=\"https://colab.research.google.com/assets/colab-badge.svg\" alt=\"Open In Colab\"/></a>"
      ]
    },
    {
      "cell_type": "markdown",
      "source": [
        "Twitter V2 Full Archive Search\n",
        "This document shows how to use Tweepy to conduct a full archive search using v2 of the Twitter API.\n",
        "\n",
        "Prep work\n",
        "In order to use this code, you will need to have a developer account on Twitter, with access to the Academic Research product track. Information about who is eligible and how to apply is here.\n",
        "\n",
        "Once you have an account, you will need to create a new app at https://developer.twitter.com/en/portal/dashboard and generate a \"bearer token\" from the app. Copy the bearer token to your clipboard and paste it into a new file in the same directory as this file, called twitter_authentication.py. The entire contents of the file should look like this:\n",
        "\n",
        "bearer_token = \"YOUR BEARER TOKEN HERE\"\n",
        "Note that you should never share this token with anyone else. If, for example, you are saving your work in a Git repository, make sure that you add the twitter_authentication.py file to your .gitignore.\n",
        "\n",
        "If anyone gets this token, they will have access to your Twitter account and you will need to revoke the token (from the same interface where you created it).\n",
        "\n",
        "If you've created the file successfully, then the following two blocks of code should work."
      ],
      "metadata": {
        "id": "2pzOxGNygZ9l"
      }
    },
    {
      "cell_type": "code",
      "source": [
        "pip install twitter"
      ],
      "metadata": {
        "colab": {
          "base_uri": "https://localhost:8080/"
        },
        "id": "riijQRu3gk1h",
        "outputId": "3cf4f6b6-f986-46eb-d3c0-7c551ffb5bae"
      },
      "execution_count": 1,
      "outputs": [
        {
          "output_type": "stream",
          "name": "stdout",
          "text": [
            "Looking in indexes: https://pypi.org/simple, https://us-python.pkg.dev/colab-wheels/public/simple/\n",
            "Requirement already satisfied: twitter in /usr/local/lib/python3.8/dist-packages (1.19.6)\n",
            "Requirement already satisfied: certifi in /usr/local/lib/python3.8/dist-packages (from twitter) (2022.12.7)\n"
          ]
        }
      ]
    },
    {
      "cell_type": "code",
      "source": [
        "import twitter"
      ],
      "metadata": {
        "id": "Ftwpqc9Ogpum"
      },
      "execution_count": 2,
      "outputs": []
    },
    {
      "cell_type": "code",
      "source": [
        "import tweepy\n",
        "import time\n",
        "import pandas as pd"
      ],
      "metadata": {
        "id": "Zc7CfbTtgZyI"
      },
      "execution_count": 3,
      "outputs": []
    },
    {
      "cell_type": "code",
      "execution_count": 4,
      "metadata": {
        "id": "5XhpnN0hf7Vt"
      },
      "outputs": [],
      "source": [
        "file_name = 'keys.py'"
      ]
    },
    {
      "cell_type": "code",
      "source": [
        "%%writefile {file_name}\n",
        "\n",
        "consumer_key=\"insert your API key\"\n",
        "consumer_secret=\"insert your API secret\"\n",
        "access_token=\"insert your access token\"\n",
        "access_token_secret=\"insert your access token secret\"\n",
        "bearer_token=\"insert your bearer token\""
      ],
      "metadata": {
        "id": "OFkR-tSZiXUf"
      },
      "execution_count": null,
      "outputs": []
    },
    {
      "cell_type": "code",
      "source": [
        "from keys import *"
      ],
      "metadata": {
        "id": "per5IlcZitwr"
      },
      "execution_count": 6,
      "outputs": []
    },
    {
      "cell_type": "code",
      "source": [
        "import requests\n",
        "\n",
        "client = tweepy.Client( bearer_token=bearer_token, \n",
        "                        consumer_key=consumer_key, \n",
        "                        consumer_secret=consumer_secret, \n",
        "                        access_token=access_token, \n",
        "                        access_token_secret=access_token_secret, \n",
        "                        return_type = requests.Response,\n",
        "                        wait_on_rate_limit=True)"
      ],
      "metadata": {
        "id": "0Zf6ux2pixm4"
      },
      "execution_count": 7,
      "outputs": []
    },
    {
      "cell_type": "code",
      "source": [
        "# Define query\n",
        "query = 'from:BarackObama -is:retweet'\n",
        "\n",
        "# get max. 100 tweets\n",
        "tweets = client.search_recent_tweets(query=query, \n",
        "                                    tweet_fields=['author_id', 'created_at'],\n",
        "                                     max_results=100)\n",
        "\n"
      ],
      "metadata": {
        "id": "6lhV2TMmi0cg"
      },
      "execution_count": 9,
      "outputs": []
    },
    {
      "cell_type": "code",
      "source": [
        "import pandas as pd\n",
        "\n",
        "# Save data as dictionary\n",
        "tweets_dict = tweets.json() \n",
        "\n",
        "# Extract \"data\" value from dictionary\n",
        "tweets_data = tweets_dict['data'] \n",
        "\n",
        "# Transform to pandas Dataframe\n",
        "df = pd.json_normalize(tweets_data) "
      ],
      "metadata": {
        "id": "nlnyFibUjkQz"
      },
      "execution_count": 10,
      "outputs": []
    },
    {
      "cell_type": "code",
      "source": [
        "df"
      ],
      "metadata": {
        "colab": {
          "base_uri": "https://localhost:8080/",
          "height": 238
        },
        "id": "O4bwreEHjmaq",
        "outputId": "4d9b5e47-d279-45a7-c92b-0f2db7422f5d"
      },
      "execution_count": 11,
      "outputs": [
        {
          "output_type": "execute_result",
          "data": {
            "text/plain": [
              "  edit_history_tweet_ids                                               text  \\\n",
              "0  [1607411252409556993]  Michelle and I send our best wishes to familie...   \n",
              "1  [1607022409160458240]  Merry Christmas, everybody! One of the best pa...   \n",
              "2  [1606432044602605568]  I always enjoy sharing my end of year music pl...   \n",
              "3  [1606356531385143297]  I saw some great movies this year – here are s...   \n",
              "4  [1606303906211979269]  I always look forward to sharing my lists of f...   \n",
              "5  [1605665894155186176]  I grew up watching Franco Harris, and had the ...   \n",
              "\n",
              "                 created_at author_id                   id  \n",
              "0  2022-12-26T16:21:21.000Z    813286  1607411252409556993  \n",
              "1  2022-12-25T14:36:14.000Z    813286  1607022409160458240  \n",
              "2  2022-12-23T23:30:20.000Z    813286  1606432044602605568  \n",
              "3  2022-12-23T18:30:16.000Z    813286  1606356531385143297  \n",
              "4  2022-12-23T15:01:09.000Z    813286  1606303906211979269  \n",
              "5  2022-12-21T20:45:55.000Z    813286  1605665894155186176  "
            ],
            "text/html": [
              "\n",
              "  <div id=\"df-431b06c3-60d0-4a95-bb14-25e667581a2e\">\n",
              "    <div class=\"colab-df-container\">\n",
              "      <div>\n",
              "<style scoped>\n",
              "    .dataframe tbody tr th:only-of-type {\n",
              "        vertical-align: middle;\n",
              "    }\n",
              "\n",
              "    .dataframe tbody tr th {\n",
              "        vertical-align: top;\n",
              "    }\n",
              "\n",
              "    .dataframe thead th {\n",
              "        text-align: right;\n",
              "    }\n",
              "</style>\n",
              "<table border=\"1\" class=\"dataframe\">\n",
              "  <thead>\n",
              "    <tr style=\"text-align: right;\">\n",
              "      <th></th>\n",
              "      <th>edit_history_tweet_ids</th>\n",
              "      <th>text</th>\n",
              "      <th>created_at</th>\n",
              "      <th>author_id</th>\n",
              "      <th>id</th>\n",
              "    </tr>\n",
              "  </thead>\n",
              "  <tbody>\n",
              "    <tr>\n",
              "      <th>0</th>\n",
              "      <td>[1607411252409556993]</td>\n",
              "      <td>Michelle and I send our best wishes to familie...</td>\n",
              "      <td>2022-12-26T16:21:21.000Z</td>\n",
              "      <td>813286</td>\n",
              "      <td>1607411252409556993</td>\n",
              "    </tr>\n",
              "    <tr>\n",
              "      <th>1</th>\n",
              "      <td>[1607022409160458240]</td>\n",
              "      <td>Merry Christmas, everybody! One of the best pa...</td>\n",
              "      <td>2022-12-25T14:36:14.000Z</td>\n",
              "      <td>813286</td>\n",
              "      <td>1607022409160458240</td>\n",
              "    </tr>\n",
              "    <tr>\n",
              "      <th>2</th>\n",
              "      <td>[1606432044602605568]</td>\n",
              "      <td>I always enjoy sharing my end of year music pl...</td>\n",
              "      <td>2022-12-23T23:30:20.000Z</td>\n",
              "      <td>813286</td>\n",
              "      <td>1606432044602605568</td>\n",
              "    </tr>\n",
              "    <tr>\n",
              "      <th>3</th>\n",
              "      <td>[1606356531385143297]</td>\n",
              "      <td>I saw some great movies this year – here are s...</td>\n",
              "      <td>2022-12-23T18:30:16.000Z</td>\n",
              "      <td>813286</td>\n",
              "      <td>1606356531385143297</td>\n",
              "    </tr>\n",
              "    <tr>\n",
              "      <th>4</th>\n",
              "      <td>[1606303906211979269]</td>\n",
              "      <td>I always look forward to sharing my lists of f...</td>\n",
              "      <td>2022-12-23T15:01:09.000Z</td>\n",
              "      <td>813286</td>\n",
              "      <td>1606303906211979269</td>\n",
              "    </tr>\n",
              "    <tr>\n",
              "      <th>5</th>\n",
              "      <td>[1605665894155186176]</td>\n",
              "      <td>I grew up watching Franco Harris, and had the ...</td>\n",
              "      <td>2022-12-21T20:45:55.000Z</td>\n",
              "      <td>813286</td>\n",
              "      <td>1605665894155186176</td>\n",
              "    </tr>\n",
              "  </tbody>\n",
              "</table>\n",
              "</div>\n",
              "      <button class=\"colab-df-convert\" onclick=\"convertToInteractive('df-431b06c3-60d0-4a95-bb14-25e667581a2e')\"\n",
              "              title=\"Convert this dataframe to an interactive table.\"\n",
              "              style=\"display:none;\">\n",
              "        \n",
              "  <svg xmlns=\"http://www.w3.org/2000/svg\" height=\"24px\"viewBox=\"0 0 24 24\"\n",
              "       width=\"24px\">\n",
              "    <path d=\"M0 0h24v24H0V0z\" fill=\"none\"/>\n",
              "    <path d=\"M18.56 5.44l.94 2.06.94-2.06 2.06-.94-2.06-.94-.94-2.06-.94 2.06-2.06.94zm-11 1L8.5 8.5l.94-2.06 2.06-.94-2.06-.94L8.5 2.5l-.94 2.06-2.06.94zm10 10l.94 2.06.94-2.06 2.06-.94-2.06-.94-.94-2.06-.94 2.06-2.06.94z\"/><path d=\"M17.41 7.96l-1.37-1.37c-.4-.4-.92-.59-1.43-.59-.52 0-1.04.2-1.43.59L10.3 9.45l-7.72 7.72c-.78.78-.78 2.05 0 2.83L4 21.41c.39.39.9.59 1.41.59.51 0 1.02-.2 1.41-.59l7.78-7.78 2.81-2.81c.8-.78.8-2.07 0-2.86zM5.41 20L4 18.59l7.72-7.72 1.47 1.35L5.41 20z\"/>\n",
              "  </svg>\n",
              "      </button>\n",
              "      \n",
              "  <style>\n",
              "    .colab-df-container {\n",
              "      display:flex;\n",
              "      flex-wrap:wrap;\n",
              "      gap: 12px;\n",
              "    }\n",
              "\n",
              "    .colab-df-convert {\n",
              "      background-color: #E8F0FE;\n",
              "      border: none;\n",
              "      border-radius: 50%;\n",
              "      cursor: pointer;\n",
              "      display: none;\n",
              "      fill: #1967D2;\n",
              "      height: 32px;\n",
              "      padding: 0 0 0 0;\n",
              "      width: 32px;\n",
              "    }\n",
              "\n",
              "    .colab-df-convert:hover {\n",
              "      background-color: #E2EBFA;\n",
              "      box-shadow: 0px 1px 2px rgba(60, 64, 67, 0.3), 0px 1px 3px 1px rgba(60, 64, 67, 0.15);\n",
              "      fill: #174EA6;\n",
              "    }\n",
              "\n",
              "    [theme=dark] .colab-df-convert {\n",
              "      background-color: #3B4455;\n",
              "      fill: #D2E3FC;\n",
              "    }\n",
              "\n",
              "    [theme=dark] .colab-df-convert:hover {\n",
              "      background-color: #434B5C;\n",
              "      box-shadow: 0px 1px 3px 1px rgba(0, 0, 0, 0.15);\n",
              "      filter: drop-shadow(0px 1px 2px rgba(0, 0, 0, 0.3));\n",
              "      fill: #FFFFFF;\n",
              "    }\n",
              "  </style>\n",
              "\n",
              "      <script>\n",
              "        const buttonEl =\n",
              "          document.querySelector('#df-431b06c3-60d0-4a95-bb14-25e667581a2e button.colab-df-convert');\n",
              "        buttonEl.style.display =\n",
              "          google.colab.kernel.accessAllowed ? 'block' : 'none';\n",
              "\n",
              "        async function convertToInteractive(key) {\n",
              "          const element = document.querySelector('#df-431b06c3-60d0-4a95-bb14-25e667581a2e');\n",
              "          const dataTable =\n",
              "            await google.colab.kernel.invokeFunction('convertToInteractive',\n",
              "                                                     [key], {});\n",
              "          if (!dataTable) return;\n",
              "\n",
              "          const docLinkHtml = 'Like what you see? Visit the ' +\n",
              "            '<a target=\"_blank\" href=https://colab.research.google.com/notebooks/data_table.ipynb>data table notebook</a>'\n",
              "            + ' to learn more about interactive tables.';\n",
              "          element.innerHTML = '';\n",
              "          dataTable['output_type'] = 'display_data';\n",
              "          await google.colab.output.renderOutput(dataTable, element);\n",
              "          const docLink = document.createElement('div');\n",
              "          docLink.innerHTML = docLinkHtml;\n",
              "          element.appendChild(docLink);\n",
              "        }\n",
              "      </script>\n",
              "    </div>\n",
              "  </div>\n",
              "  "
            ]
          },
          "metadata": {},
          "execution_count": 11
        }
      ]
    },
    {
      "cell_type": "code",
      "source": [
        "# save df\n",
        "df.to_csv(\"tweets-obama.csv\")"
      ],
      "metadata": {
        "id": "7YfUwoxrjrzf"
      },
      "execution_count": 12,
      "outputs": []
    },
    {
      "cell_type": "code",
      "source": [
        "df.info()"
      ],
      "metadata": {
        "colab": {
          "base_uri": "https://localhost:8080/"
        },
        "id": "VtSEkkEFjzF-",
        "outputId": "07095bcd-acde-4e6e-a49b-42ea6bd2d343"
      },
      "execution_count": 13,
      "outputs": [
        {
          "output_type": "stream",
          "name": "stdout",
          "text": [
            "<class 'pandas.core.frame.DataFrame'>\n",
            "RangeIndex: 6 entries, 0 to 5\n",
            "Data columns (total 5 columns):\n",
            " #   Column                  Non-Null Count  Dtype \n",
            "---  ------                  --------------  ----- \n",
            " 0   edit_history_tweet_ids  6 non-null      object\n",
            " 1   text                    6 non-null      object\n",
            " 2   created_at              6 non-null      object\n",
            " 3   author_id               6 non-null      object\n",
            " 4   id                      6 non-null      object\n",
            "dtypes: object(5)\n",
            "memory usage: 368.0+ bytes\n"
          ]
        }
      ]
    },
    {
      "cell_type": "code",
      "source": [
        "df['text'] = df['text'].astype(str).str.lower()\n",
        "df.head(3)"
      ],
      "metadata": {
        "colab": {
          "base_uri": "https://localhost:8080/",
          "height": 143
        },
        "id": "W9SM_lzQj2wf",
        "outputId": "4d8e9a9a-22f5-4743-84e2-ca043b90eafa"
      },
      "execution_count": 14,
      "outputs": [
        {
          "output_type": "execute_result",
          "data": {
            "text/plain": [
              "  edit_history_tweet_ids                                               text  \\\n",
              "0  [1607411252409556993]  michelle and i send our best wishes to familie...   \n",
              "1  [1607022409160458240]  merry christmas, everybody! one of the best pa...   \n",
              "2  [1606432044602605568]  i always enjoy sharing my end of year music pl...   \n",
              "\n",
              "                 created_at author_id                   id  \n",
              "0  2022-12-26T16:21:21.000Z    813286  1607411252409556993  \n",
              "1  2022-12-25T14:36:14.000Z    813286  1607022409160458240  \n",
              "2  2022-12-23T23:30:20.000Z    813286  1606432044602605568  "
            ],
            "text/html": [
              "\n",
              "  <div id=\"df-58a321bb-01ba-46b5-b9df-a1116f302caa\">\n",
              "    <div class=\"colab-df-container\">\n",
              "      <div>\n",
              "<style scoped>\n",
              "    .dataframe tbody tr th:only-of-type {\n",
              "        vertical-align: middle;\n",
              "    }\n",
              "\n",
              "    .dataframe tbody tr th {\n",
              "        vertical-align: top;\n",
              "    }\n",
              "\n",
              "    .dataframe thead th {\n",
              "        text-align: right;\n",
              "    }\n",
              "</style>\n",
              "<table border=\"1\" class=\"dataframe\">\n",
              "  <thead>\n",
              "    <tr style=\"text-align: right;\">\n",
              "      <th></th>\n",
              "      <th>edit_history_tweet_ids</th>\n",
              "      <th>text</th>\n",
              "      <th>created_at</th>\n",
              "      <th>author_id</th>\n",
              "      <th>id</th>\n",
              "    </tr>\n",
              "  </thead>\n",
              "  <tbody>\n",
              "    <tr>\n",
              "      <th>0</th>\n",
              "      <td>[1607411252409556993]</td>\n",
              "      <td>michelle and i send our best wishes to familie...</td>\n",
              "      <td>2022-12-26T16:21:21.000Z</td>\n",
              "      <td>813286</td>\n",
              "      <td>1607411252409556993</td>\n",
              "    </tr>\n",
              "    <tr>\n",
              "      <th>1</th>\n",
              "      <td>[1607022409160458240]</td>\n",
              "      <td>merry christmas, everybody! one of the best pa...</td>\n",
              "      <td>2022-12-25T14:36:14.000Z</td>\n",
              "      <td>813286</td>\n",
              "      <td>1607022409160458240</td>\n",
              "    </tr>\n",
              "    <tr>\n",
              "      <th>2</th>\n",
              "      <td>[1606432044602605568]</td>\n",
              "      <td>i always enjoy sharing my end of year music pl...</td>\n",
              "      <td>2022-12-23T23:30:20.000Z</td>\n",
              "      <td>813286</td>\n",
              "      <td>1606432044602605568</td>\n",
              "    </tr>\n",
              "  </tbody>\n",
              "</table>\n",
              "</div>\n",
              "      <button class=\"colab-df-convert\" onclick=\"convertToInteractive('df-58a321bb-01ba-46b5-b9df-a1116f302caa')\"\n",
              "              title=\"Convert this dataframe to an interactive table.\"\n",
              "              style=\"display:none;\">\n",
              "        \n",
              "  <svg xmlns=\"http://www.w3.org/2000/svg\" height=\"24px\"viewBox=\"0 0 24 24\"\n",
              "       width=\"24px\">\n",
              "    <path d=\"M0 0h24v24H0V0z\" fill=\"none\"/>\n",
              "    <path d=\"M18.56 5.44l.94 2.06.94-2.06 2.06-.94-2.06-.94-.94-2.06-.94 2.06-2.06.94zm-11 1L8.5 8.5l.94-2.06 2.06-.94-2.06-.94L8.5 2.5l-.94 2.06-2.06.94zm10 10l.94 2.06.94-2.06 2.06-.94-2.06-.94-.94-2.06-.94 2.06-2.06.94z\"/><path d=\"M17.41 7.96l-1.37-1.37c-.4-.4-.92-.59-1.43-.59-.52 0-1.04.2-1.43.59L10.3 9.45l-7.72 7.72c-.78.78-.78 2.05 0 2.83L4 21.41c.39.39.9.59 1.41.59.51 0 1.02-.2 1.41-.59l7.78-7.78 2.81-2.81c.8-.78.8-2.07 0-2.86zM5.41 20L4 18.59l7.72-7.72 1.47 1.35L5.41 20z\"/>\n",
              "  </svg>\n",
              "      </button>\n",
              "      \n",
              "  <style>\n",
              "    .colab-df-container {\n",
              "      display:flex;\n",
              "      flex-wrap:wrap;\n",
              "      gap: 12px;\n",
              "    }\n",
              "\n",
              "    .colab-df-convert {\n",
              "      background-color: #E8F0FE;\n",
              "      border: none;\n",
              "      border-radius: 50%;\n",
              "      cursor: pointer;\n",
              "      display: none;\n",
              "      fill: #1967D2;\n",
              "      height: 32px;\n",
              "      padding: 0 0 0 0;\n",
              "      width: 32px;\n",
              "    }\n",
              "\n",
              "    .colab-df-convert:hover {\n",
              "      background-color: #E2EBFA;\n",
              "      box-shadow: 0px 1px 2px rgba(60, 64, 67, 0.3), 0px 1px 3px 1px rgba(60, 64, 67, 0.15);\n",
              "      fill: #174EA6;\n",
              "    }\n",
              "\n",
              "    [theme=dark] .colab-df-convert {\n",
              "      background-color: #3B4455;\n",
              "      fill: #D2E3FC;\n",
              "    }\n",
              "\n",
              "    [theme=dark] .colab-df-convert:hover {\n",
              "      background-color: #434B5C;\n",
              "      box-shadow: 0px 1px 3px 1px rgba(0, 0, 0, 0.15);\n",
              "      filter: drop-shadow(0px 1px 2px rgba(0, 0, 0, 0.3));\n",
              "      fill: #FFFFFF;\n",
              "    }\n",
              "  </style>\n",
              "\n",
              "      <script>\n",
              "        const buttonEl =\n",
              "          document.querySelector('#df-58a321bb-01ba-46b5-b9df-a1116f302caa button.colab-df-convert');\n",
              "        buttonEl.style.display =\n",
              "          google.colab.kernel.accessAllowed ? 'block' : 'none';\n",
              "\n",
              "        async function convertToInteractive(key) {\n",
              "          const element = document.querySelector('#df-58a321bb-01ba-46b5-b9df-a1116f302caa');\n",
              "          const dataTable =\n",
              "            await google.colab.kernel.invokeFunction('convertToInteractive',\n",
              "                                                     [key], {});\n",
              "          if (!dataTable) return;\n",
              "\n",
              "          const docLinkHtml = 'Like what you see? Visit the ' +\n",
              "            '<a target=\"_blank\" href=https://colab.research.google.com/notebooks/data_table.ipynb>data table notebook</a>'\n",
              "            + ' to learn more about interactive tables.';\n",
              "          element.innerHTML = '';\n",
              "          dataTable['output_type'] = 'display_data';\n",
              "          await google.colab.output.renderOutput(dataTable, element);\n",
              "          const docLink = document.createElement('div');\n",
              "          docLink.innerHTML = docLinkHtml;\n",
              "          element.appendChild(docLink);\n",
              "        }\n",
              "      </script>\n",
              "    </div>\n",
              "  </div>\n",
              "  "
            ]
          },
          "metadata": {},
          "execution_count": 14
        }
      ]
    },
    {
      "cell_type": "code",
      "source": [
        "from nltk.tokenize import RegexpTokenizer"
      ],
      "metadata": {
        "id": "Wl13g3vJj76s"
      },
      "execution_count": 15,
      "outputs": []
    },
    {
      "cell_type": "code",
      "source": [
        "regexp = RegexpTokenizer('\\w+')"
      ],
      "metadata": {
        "id": "hpBQHeH5j9BI"
      },
      "execution_count": 16,
      "outputs": []
    },
    {
      "cell_type": "code",
      "source": [
        "df['text_token']=df['text'].apply(regexp.tokenize)\n",
        "df.head(3)"
      ],
      "metadata": {
        "colab": {
          "base_uri": "https://localhost:8080/",
          "height": 143
        },
        "id": "tnScmRAEj_N8",
        "outputId": "2f765888-7c52-45b1-e4b4-98e4472413d6"
      },
      "execution_count": 17,
      "outputs": [
        {
          "output_type": "execute_result",
          "data": {
            "text/plain": [
              "  edit_history_tweet_ids                                               text  \\\n",
              "0  [1607411252409556993]  michelle and i send our best wishes to familie...   \n",
              "1  [1607022409160458240]  merry christmas, everybody! one of the best pa...   \n",
              "2  [1606432044602605568]  i always enjoy sharing my end of year music pl...   \n",
              "\n",
              "                 created_at author_id                   id  \\\n",
              "0  2022-12-26T16:21:21.000Z    813286  1607411252409556993   \n",
              "1  2022-12-25T14:36:14.000Z    813286  1607022409160458240   \n",
              "2  2022-12-23T23:30:20.000Z    813286  1606432044602605568   \n",
              "\n",
              "                                          text_token  \n",
              "0  [michelle, and, i, send, our, best, wishes, to...  \n",
              "1  [merry, christmas, everybody, one, of, the, be...  \n",
              "2  [i, always, enjoy, sharing, my, end, of, year,...  "
            ],
            "text/html": [
              "\n",
              "  <div id=\"df-a373d139-3a52-4a12-95be-711f2e9f3b6f\">\n",
              "    <div class=\"colab-df-container\">\n",
              "      <div>\n",
              "<style scoped>\n",
              "    .dataframe tbody tr th:only-of-type {\n",
              "        vertical-align: middle;\n",
              "    }\n",
              "\n",
              "    .dataframe tbody tr th {\n",
              "        vertical-align: top;\n",
              "    }\n",
              "\n",
              "    .dataframe thead th {\n",
              "        text-align: right;\n",
              "    }\n",
              "</style>\n",
              "<table border=\"1\" class=\"dataframe\">\n",
              "  <thead>\n",
              "    <tr style=\"text-align: right;\">\n",
              "      <th></th>\n",
              "      <th>edit_history_tweet_ids</th>\n",
              "      <th>text</th>\n",
              "      <th>created_at</th>\n",
              "      <th>author_id</th>\n",
              "      <th>id</th>\n",
              "      <th>text_token</th>\n",
              "    </tr>\n",
              "  </thead>\n",
              "  <tbody>\n",
              "    <tr>\n",
              "      <th>0</th>\n",
              "      <td>[1607411252409556993]</td>\n",
              "      <td>michelle and i send our best wishes to familie...</td>\n",
              "      <td>2022-12-26T16:21:21.000Z</td>\n",
              "      <td>813286</td>\n",
              "      <td>1607411252409556993</td>\n",
              "      <td>[michelle, and, i, send, our, best, wishes, to...</td>\n",
              "    </tr>\n",
              "    <tr>\n",
              "      <th>1</th>\n",
              "      <td>[1607022409160458240]</td>\n",
              "      <td>merry christmas, everybody! one of the best pa...</td>\n",
              "      <td>2022-12-25T14:36:14.000Z</td>\n",
              "      <td>813286</td>\n",
              "      <td>1607022409160458240</td>\n",
              "      <td>[merry, christmas, everybody, one, of, the, be...</td>\n",
              "    </tr>\n",
              "    <tr>\n",
              "      <th>2</th>\n",
              "      <td>[1606432044602605568]</td>\n",
              "      <td>i always enjoy sharing my end of year music pl...</td>\n",
              "      <td>2022-12-23T23:30:20.000Z</td>\n",
              "      <td>813286</td>\n",
              "      <td>1606432044602605568</td>\n",
              "      <td>[i, always, enjoy, sharing, my, end, of, year,...</td>\n",
              "    </tr>\n",
              "  </tbody>\n",
              "</table>\n",
              "</div>\n",
              "      <button class=\"colab-df-convert\" onclick=\"convertToInteractive('df-a373d139-3a52-4a12-95be-711f2e9f3b6f')\"\n",
              "              title=\"Convert this dataframe to an interactive table.\"\n",
              "              style=\"display:none;\">\n",
              "        \n",
              "  <svg xmlns=\"http://www.w3.org/2000/svg\" height=\"24px\"viewBox=\"0 0 24 24\"\n",
              "       width=\"24px\">\n",
              "    <path d=\"M0 0h24v24H0V0z\" fill=\"none\"/>\n",
              "    <path d=\"M18.56 5.44l.94 2.06.94-2.06 2.06-.94-2.06-.94-.94-2.06-.94 2.06-2.06.94zm-11 1L8.5 8.5l.94-2.06 2.06-.94-2.06-.94L8.5 2.5l-.94 2.06-2.06.94zm10 10l.94 2.06.94-2.06 2.06-.94-2.06-.94-.94-2.06-.94 2.06-2.06.94z\"/><path d=\"M17.41 7.96l-1.37-1.37c-.4-.4-.92-.59-1.43-.59-.52 0-1.04.2-1.43.59L10.3 9.45l-7.72 7.72c-.78.78-.78 2.05 0 2.83L4 21.41c.39.39.9.59 1.41.59.51 0 1.02-.2 1.41-.59l7.78-7.78 2.81-2.81c.8-.78.8-2.07 0-2.86zM5.41 20L4 18.59l7.72-7.72 1.47 1.35L5.41 20z\"/>\n",
              "  </svg>\n",
              "      </button>\n",
              "      \n",
              "  <style>\n",
              "    .colab-df-container {\n",
              "      display:flex;\n",
              "      flex-wrap:wrap;\n",
              "      gap: 12px;\n",
              "    }\n",
              "\n",
              "    .colab-df-convert {\n",
              "      background-color: #E8F0FE;\n",
              "      border: none;\n",
              "      border-radius: 50%;\n",
              "      cursor: pointer;\n",
              "      display: none;\n",
              "      fill: #1967D2;\n",
              "      height: 32px;\n",
              "      padding: 0 0 0 0;\n",
              "      width: 32px;\n",
              "    }\n",
              "\n",
              "    .colab-df-convert:hover {\n",
              "      background-color: #E2EBFA;\n",
              "      box-shadow: 0px 1px 2px rgba(60, 64, 67, 0.3), 0px 1px 3px 1px rgba(60, 64, 67, 0.15);\n",
              "      fill: #174EA6;\n",
              "    }\n",
              "\n",
              "    [theme=dark] .colab-df-convert {\n",
              "      background-color: #3B4455;\n",
              "      fill: #D2E3FC;\n",
              "    }\n",
              "\n",
              "    [theme=dark] .colab-df-convert:hover {\n",
              "      background-color: #434B5C;\n",
              "      box-shadow: 0px 1px 3px 1px rgba(0, 0, 0, 0.15);\n",
              "      filter: drop-shadow(0px 1px 2px rgba(0, 0, 0, 0.3));\n",
              "      fill: #FFFFFF;\n",
              "    }\n",
              "  </style>\n",
              "\n",
              "      <script>\n",
              "        const buttonEl =\n",
              "          document.querySelector('#df-a373d139-3a52-4a12-95be-711f2e9f3b6f button.colab-df-convert');\n",
              "        buttonEl.style.display =\n",
              "          google.colab.kernel.accessAllowed ? 'block' : 'none';\n",
              "\n",
              "        async function convertToInteractive(key) {\n",
              "          const element = document.querySelector('#df-a373d139-3a52-4a12-95be-711f2e9f3b6f');\n",
              "          const dataTable =\n",
              "            await google.colab.kernel.invokeFunction('convertToInteractive',\n",
              "                                                     [key], {});\n",
              "          if (!dataTable) return;\n",
              "\n",
              "          const docLinkHtml = 'Like what you see? Visit the ' +\n",
              "            '<a target=\"_blank\" href=https://colab.research.google.com/notebooks/data_table.ipynb>data table notebook</a>'\n",
              "            + ' to learn more about interactive tables.';\n",
              "          element.innerHTML = '';\n",
              "          dataTable['output_type'] = 'display_data';\n",
              "          await google.colab.output.renderOutput(dataTable, element);\n",
              "          const docLink = document.createElement('div');\n",
              "          docLink.innerHTML = docLinkHtml;\n",
              "          element.appendChild(docLink);\n",
              "        }\n",
              "      </script>\n",
              "    </div>\n",
              "  </div>\n",
              "  "
            ]
          },
          "metadata": {},
          "execution_count": 17
        }
      ]
    },
    {
      "cell_type": "code",
      "source": [
        "import nltk\n",
        "\n",
        "nltk.download('stopwords')"
      ],
      "metadata": {
        "colab": {
          "base_uri": "https://localhost:8080/"
        },
        "id": "5xT3pNJ-kFOm",
        "outputId": "33b570d6-1145-4990-d9e5-3da253963635"
      },
      "execution_count": 19,
      "outputs": [
        {
          "output_type": "stream",
          "name": "stderr",
          "text": [
            "[nltk_data] Downloading package stopwords to /root/nltk_data...\n",
            "[nltk_data]   Unzipping corpora/stopwords.zip.\n"
          ]
        },
        {
          "output_type": "execute_result",
          "data": {
            "text/plain": [
              "True"
            ]
          },
          "metadata": {},
          "execution_count": 19
        }
      ]
    },
    {
      "cell_type": "code",
      "source": [
        "from nltk.corpus import stopwords\n",
        "\n",
        "# Make a list of english stopwords\n",
        "stopwords = nltk.corpus.stopwords.words(\"english\")\n",
        "\n",
        "# Extend the list with your own custom stopwords\n",
        "my_stopwords = ['https']\n",
        "stopwords.extend(my_stopwords)"
      ],
      "metadata": {
        "id": "7pf8QnvrkI8w"
      },
      "execution_count": 20,
      "outputs": []
    },
    {
      "cell_type": "code",
      "source": [
        "# Remove stopwords\n",
        "df['text_token'] = df['text_token'].apply(lambda x: [item for item in x if item not in stopwords])\n",
        "df.head(3)"
      ],
      "metadata": {
        "colab": {
          "base_uri": "https://localhost:8080/",
          "height": 143
        },
        "id": "c5E05MwykLpL",
        "outputId": "7c54b268-74b7-4486-9c97-c77c3e7e9579"
      },
      "execution_count": 21,
      "outputs": [
        {
          "output_type": "execute_result",
          "data": {
            "text/plain": [
              "  edit_history_tweet_ids                                               text  \\\n",
              "0  [1607411252409556993]  michelle and i send our best wishes to familie...   \n",
              "1  [1607022409160458240]  merry christmas, everybody! one of the best pa...   \n",
              "2  [1606432044602605568]  i always enjoy sharing my end of year music pl...   \n",
              "\n",
              "                 created_at author_id                   id  \\\n",
              "0  2022-12-26T16:21:21.000Z    813286  1607411252409556993   \n",
              "1  2022-12-25T14:36:14.000Z    813286  1607022409160458240   \n",
              "2  2022-12-23T23:30:20.000Z    813286  1606432044602605568   \n",
              "\n",
              "                                          text_token  \n",
              "0  [michelle, send, best, wishes, families, celeb...  \n",
              "1  [merry, christmas, everybody, one, best, parts...  \n",
              "2  [always, enjoy, sharing, end, year, music, pla...  "
            ],
            "text/html": [
              "\n",
              "  <div id=\"df-de6a2729-57ef-4a52-9130-513c83fe5343\">\n",
              "    <div class=\"colab-df-container\">\n",
              "      <div>\n",
              "<style scoped>\n",
              "    .dataframe tbody tr th:only-of-type {\n",
              "        vertical-align: middle;\n",
              "    }\n",
              "\n",
              "    .dataframe tbody tr th {\n",
              "        vertical-align: top;\n",
              "    }\n",
              "\n",
              "    .dataframe thead th {\n",
              "        text-align: right;\n",
              "    }\n",
              "</style>\n",
              "<table border=\"1\" class=\"dataframe\">\n",
              "  <thead>\n",
              "    <tr style=\"text-align: right;\">\n",
              "      <th></th>\n",
              "      <th>edit_history_tweet_ids</th>\n",
              "      <th>text</th>\n",
              "      <th>created_at</th>\n",
              "      <th>author_id</th>\n",
              "      <th>id</th>\n",
              "      <th>text_token</th>\n",
              "    </tr>\n",
              "  </thead>\n",
              "  <tbody>\n",
              "    <tr>\n",
              "      <th>0</th>\n",
              "      <td>[1607411252409556993]</td>\n",
              "      <td>michelle and i send our best wishes to familie...</td>\n",
              "      <td>2022-12-26T16:21:21.000Z</td>\n",
              "      <td>813286</td>\n",
              "      <td>1607411252409556993</td>\n",
              "      <td>[michelle, send, best, wishes, families, celeb...</td>\n",
              "    </tr>\n",
              "    <tr>\n",
              "      <th>1</th>\n",
              "      <td>[1607022409160458240]</td>\n",
              "      <td>merry christmas, everybody! one of the best pa...</td>\n",
              "      <td>2022-12-25T14:36:14.000Z</td>\n",
              "      <td>813286</td>\n",
              "      <td>1607022409160458240</td>\n",
              "      <td>[merry, christmas, everybody, one, best, parts...</td>\n",
              "    </tr>\n",
              "    <tr>\n",
              "      <th>2</th>\n",
              "      <td>[1606432044602605568]</td>\n",
              "      <td>i always enjoy sharing my end of year music pl...</td>\n",
              "      <td>2022-12-23T23:30:20.000Z</td>\n",
              "      <td>813286</td>\n",
              "      <td>1606432044602605568</td>\n",
              "      <td>[always, enjoy, sharing, end, year, music, pla...</td>\n",
              "    </tr>\n",
              "  </tbody>\n",
              "</table>\n",
              "</div>\n",
              "      <button class=\"colab-df-convert\" onclick=\"convertToInteractive('df-de6a2729-57ef-4a52-9130-513c83fe5343')\"\n",
              "              title=\"Convert this dataframe to an interactive table.\"\n",
              "              style=\"display:none;\">\n",
              "        \n",
              "  <svg xmlns=\"http://www.w3.org/2000/svg\" height=\"24px\"viewBox=\"0 0 24 24\"\n",
              "       width=\"24px\">\n",
              "    <path d=\"M0 0h24v24H0V0z\" fill=\"none\"/>\n",
              "    <path d=\"M18.56 5.44l.94 2.06.94-2.06 2.06-.94-2.06-.94-.94-2.06-.94 2.06-2.06.94zm-11 1L8.5 8.5l.94-2.06 2.06-.94-2.06-.94L8.5 2.5l-.94 2.06-2.06.94zm10 10l.94 2.06.94-2.06 2.06-.94-2.06-.94-.94-2.06-.94 2.06-2.06.94z\"/><path d=\"M17.41 7.96l-1.37-1.37c-.4-.4-.92-.59-1.43-.59-.52 0-1.04.2-1.43.59L10.3 9.45l-7.72 7.72c-.78.78-.78 2.05 0 2.83L4 21.41c.39.39.9.59 1.41.59.51 0 1.02-.2 1.41-.59l7.78-7.78 2.81-2.81c.8-.78.8-2.07 0-2.86zM5.41 20L4 18.59l7.72-7.72 1.47 1.35L5.41 20z\"/>\n",
              "  </svg>\n",
              "      </button>\n",
              "      \n",
              "  <style>\n",
              "    .colab-df-container {\n",
              "      display:flex;\n",
              "      flex-wrap:wrap;\n",
              "      gap: 12px;\n",
              "    }\n",
              "\n",
              "    .colab-df-convert {\n",
              "      background-color: #E8F0FE;\n",
              "      border: none;\n",
              "      border-radius: 50%;\n",
              "      cursor: pointer;\n",
              "      display: none;\n",
              "      fill: #1967D2;\n",
              "      height: 32px;\n",
              "      padding: 0 0 0 0;\n",
              "      width: 32px;\n",
              "    }\n",
              "\n",
              "    .colab-df-convert:hover {\n",
              "      background-color: #E2EBFA;\n",
              "      box-shadow: 0px 1px 2px rgba(60, 64, 67, 0.3), 0px 1px 3px 1px rgba(60, 64, 67, 0.15);\n",
              "      fill: #174EA6;\n",
              "    }\n",
              "\n",
              "    [theme=dark] .colab-df-convert {\n",
              "      background-color: #3B4455;\n",
              "      fill: #D2E3FC;\n",
              "    }\n",
              "\n",
              "    [theme=dark] .colab-df-convert:hover {\n",
              "      background-color: #434B5C;\n",
              "      box-shadow: 0px 1px 3px 1px rgba(0, 0, 0, 0.15);\n",
              "      filter: drop-shadow(0px 1px 2px rgba(0, 0, 0, 0.3));\n",
              "      fill: #FFFFFF;\n",
              "    }\n",
              "  </style>\n",
              "\n",
              "      <script>\n",
              "        const buttonEl =\n",
              "          document.querySelector('#df-de6a2729-57ef-4a52-9130-513c83fe5343 button.colab-df-convert');\n",
              "        buttonEl.style.display =\n",
              "          google.colab.kernel.accessAllowed ? 'block' : 'none';\n",
              "\n",
              "        async function convertToInteractive(key) {\n",
              "          const element = document.querySelector('#df-de6a2729-57ef-4a52-9130-513c83fe5343');\n",
              "          const dataTable =\n",
              "            await google.colab.kernel.invokeFunction('convertToInteractive',\n",
              "                                                     [key], {});\n",
              "          if (!dataTable) return;\n",
              "\n",
              "          const docLinkHtml = 'Like what you see? Visit the ' +\n",
              "            '<a target=\"_blank\" href=https://colab.research.google.com/notebooks/data_table.ipynb>data table notebook</a>'\n",
              "            + ' to learn more about interactive tables.';\n",
              "          element.innerHTML = '';\n",
              "          dataTable['output_type'] = 'display_data';\n",
              "          await google.colab.output.renderOutput(dataTable, element);\n",
              "          const docLink = document.createElement('div');\n",
              "          docLink.innerHTML = docLinkHtml;\n",
              "          element.appendChild(docLink);\n",
              "        }\n",
              "      </script>\n",
              "    </div>\n",
              "  </div>\n",
              "  "
            ]
          },
          "metadata": {},
          "execution_count": 21
        }
      ]
    },
    {
      "cell_type": "code",
      "source": [
        "#We first change the format of text_token to strings and keep only words which are longer than 2 letters\n",
        "df['text_string'] = df['text_token'].apply(lambda x: ' '.join([item for item in x if len(item)>2]))"
      ],
      "metadata": {
        "id": "mOz9kZ2_kOGt"
      },
      "execution_count": 22,
      "outputs": []
    },
    {
      "cell_type": "code",
      "source": [
        "df[['text', 'text_token', 'text_string']].head()"
      ],
      "metadata": {
        "colab": {
          "base_uri": "https://localhost:8080/",
          "height": 206
        },
        "id": "zPvNomeDkXMI",
        "outputId": "2c8d1e35-a07e-42b1-f903-e611a582f47c"
      },
      "execution_count": 23,
      "outputs": [
        {
          "output_type": "execute_result",
          "data": {
            "text/plain": [
              "                                                text  \\\n",
              "0  michelle and i send our best wishes to familie...   \n",
              "1  merry christmas, everybody! one of the best pa...   \n",
              "2  i always enjoy sharing my end of year music pl...   \n",
              "3  i saw some great movies this year – here are s...   \n",
              "4  i always look forward to sharing my lists of f...   \n",
              "\n",
              "                                          text_token  \\\n",
              "0  [michelle, send, best, wishes, families, celeb...   \n",
              "1  [merry, christmas, everybody, one, best, parts...   \n",
              "2  [always, enjoy, sharing, end, year, music, pla...   \n",
              "3  [saw, great, movies, year, favorites, miss, co...   \n",
              "4  [always, look, forward, sharing, lists, favori...   \n",
              "\n",
              "                                         text_string  \n",
              "0  michelle send best wishes families celebrating...  \n",
              "1  merry christmas everybody one best parts holid...  \n",
              "2  always enjoy sharing end year music playlist y...  \n",
              "3    saw great movies year favorites miss vsgemc8cn8  \n",
              "4  always look forward sharing lists favorite boo...  "
            ],
            "text/html": [
              "\n",
              "  <div id=\"df-1446d928-8a22-48fe-91a6-05306f6a7b47\">\n",
              "    <div class=\"colab-df-container\">\n",
              "      <div>\n",
              "<style scoped>\n",
              "    .dataframe tbody tr th:only-of-type {\n",
              "        vertical-align: middle;\n",
              "    }\n",
              "\n",
              "    .dataframe tbody tr th {\n",
              "        vertical-align: top;\n",
              "    }\n",
              "\n",
              "    .dataframe thead th {\n",
              "        text-align: right;\n",
              "    }\n",
              "</style>\n",
              "<table border=\"1\" class=\"dataframe\">\n",
              "  <thead>\n",
              "    <tr style=\"text-align: right;\">\n",
              "      <th></th>\n",
              "      <th>text</th>\n",
              "      <th>text_token</th>\n",
              "      <th>text_string</th>\n",
              "    </tr>\n",
              "  </thead>\n",
              "  <tbody>\n",
              "    <tr>\n",
              "      <th>0</th>\n",
              "      <td>michelle and i send our best wishes to familie...</td>\n",
              "      <td>[michelle, send, best, wishes, families, celeb...</td>\n",
              "      <td>michelle send best wishes families celebrating...</td>\n",
              "    </tr>\n",
              "    <tr>\n",
              "      <th>1</th>\n",
              "      <td>merry christmas, everybody! one of the best pa...</td>\n",
              "      <td>[merry, christmas, everybody, one, best, parts...</td>\n",
              "      <td>merry christmas everybody one best parts holid...</td>\n",
              "    </tr>\n",
              "    <tr>\n",
              "      <th>2</th>\n",
              "      <td>i always enjoy sharing my end of year music pl...</td>\n",
              "      <td>[always, enjoy, sharing, end, year, music, pla...</td>\n",
              "      <td>always enjoy sharing end year music playlist y...</td>\n",
              "    </tr>\n",
              "    <tr>\n",
              "      <th>3</th>\n",
              "      <td>i saw some great movies this year – here are s...</td>\n",
              "      <td>[saw, great, movies, year, favorites, miss, co...</td>\n",
              "      <td>saw great movies year favorites miss vsgemc8cn8</td>\n",
              "    </tr>\n",
              "    <tr>\n",
              "      <th>4</th>\n",
              "      <td>i always look forward to sharing my lists of f...</td>\n",
              "      <td>[always, look, forward, sharing, lists, favori...</td>\n",
              "      <td>always look forward sharing lists favorite boo...</td>\n",
              "    </tr>\n",
              "  </tbody>\n",
              "</table>\n",
              "</div>\n",
              "      <button class=\"colab-df-convert\" onclick=\"convertToInteractive('df-1446d928-8a22-48fe-91a6-05306f6a7b47')\"\n",
              "              title=\"Convert this dataframe to an interactive table.\"\n",
              "              style=\"display:none;\">\n",
              "        \n",
              "  <svg xmlns=\"http://www.w3.org/2000/svg\" height=\"24px\"viewBox=\"0 0 24 24\"\n",
              "       width=\"24px\">\n",
              "    <path d=\"M0 0h24v24H0V0z\" fill=\"none\"/>\n",
              "    <path d=\"M18.56 5.44l.94 2.06.94-2.06 2.06-.94-2.06-.94-.94-2.06-.94 2.06-2.06.94zm-11 1L8.5 8.5l.94-2.06 2.06-.94-2.06-.94L8.5 2.5l-.94 2.06-2.06.94zm10 10l.94 2.06.94-2.06 2.06-.94-2.06-.94-.94-2.06-.94 2.06-2.06.94z\"/><path d=\"M17.41 7.96l-1.37-1.37c-.4-.4-.92-.59-1.43-.59-.52 0-1.04.2-1.43.59L10.3 9.45l-7.72 7.72c-.78.78-.78 2.05 0 2.83L4 21.41c.39.39.9.59 1.41.59.51 0 1.02-.2 1.41-.59l7.78-7.78 2.81-2.81c.8-.78.8-2.07 0-2.86zM5.41 20L4 18.59l7.72-7.72 1.47 1.35L5.41 20z\"/>\n",
              "  </svg>\n",
              "      </button>\n",
              "      \n",
              "  <style>\n",
              "    .colab-df-container {\n",
              "      display:flex;\n",
              "      flex-wrap:wrap;\n",
              "      gap: 12px;\n",
              "    }\n",
              "\n",
              "    .colab-df-convert {\n",
              "      background-color: #E8F0FE;\n",
              "      border: none;\n",
              "      border-radius: 50%;\n",
              "      cursor: pointer;\n",
              "      display: none;\n",
              "      fill: #1967D2;\n",
              "      height: 32px;\n",
              "      padding: 0 0 0 0;\n",
              "      width: 32px;\n",
              "    }\n",
              "\n",
              "    .colab-df-convert:hover {\n",
              "      background-color: #E2EBFA;\n",
              "      box-shadow: 0px 1px 2px rgba(60, 64, 67, 0.3), 0px 1px 3px 1px rgba(60, 64, 67, 0.15);\n",
              "      fill: #174EA6;\n",
              "    }\n",
              "\n",
              "    [theme=dark] .colab-df-convert {\n",
              "      background-color: #3B4455;\n",
              "      fill: #D2E3FC;\n",
              "    }\n",
              "\n",
              "    [theme=dark] .colab-df-convert:hover {\n",
              "      background-color: #434B5C;\n",
              "      box-shadow: 0px 1px 3px 1px rgba(0, 0, 0, 0.15);\n",
              "      filter: drop-shadow(0px 1px 2px rgba(0, 0, 0, 0.3));\n",
              "      fill: #FFFFFF;\n",
              "    }\n",
              "  </style>\n",
              "\n",
              "      <script>\n",
              "        const buttonEl =\n",
              "          document.querySelector('#df-1446d928-8a22-48fe-91a6-05306f6a7b47 button.colab-df-convert');\n",
              "        buttonEl.style.display =\n",
              "          google.colab.kernel.accessAllowed ? 'block' : 'none';\n",
              "\n",
              "        async function convertToInteractive(key) {\n",
              "          const element = document.querySelector('#df-1446d928-8a22-48fe-91a6-05306f6a7b47');\n",
              "          const dataTable =\n",
              "            await google.colab.kernel.invokeFunction('convertToInteractive',\n",
              "                                                     [key], {});\n",
              "          if (!dataTable) return;\n",
              "\n",
              "          const docLinkHtml = 'Like what you see? Visit the ' +\n",
              "            '<a target=\"_blank\" href=https://colab.research.google.com/notebooks/data_table.ipynb>data table notebook</a>'\n",
              "            + ' to learn more about interactive tables.';\n",
              "          element.innerHTML = '';\n",
              "          dataTable['output_type'] = 'display_data';\n",
              "          await google.colab.output.renderOutput(dataTable, element);\n",
              "          const docLink = document.createElement('div');\n",
              "          docLink.innerHTML = docLinkHtml;\n",
              "          element.appendChild(docLink);\n",
              "        }\n",
              "      </script>\n",
              "    </div>\n",
              "  </div>\n",
              "  "
            ]
          },
          "metadata": {},
          "execution_count": 23
        }
      ]
    },
    {
      "cell_type": "code",
      "source": [
        "#Create a list of all words\n",
        "all_words = ' '.join([word for word in df['text_string']])"
      ],
      "metadata": {
        "id": "cYgeiL0jkcYL"
      },
      "execution_count": 24,
      "outputs": []
    },
    {
      "cell_type": "code",
      "source": [
        "import nltk\n",
        "nltk.download('punkt')"
      ],
      "metadata": {
        "colab": {
          "base_uri": "https://localhost:8080/"
        },
        "id": "RD1eQYoQkkOa",
        "outputId": "89378154-79a6-4096-df3d-85588bbf9165"
      },
      "execution_count": 26,
      "outputs": [
        {
          "output_type": "stream",
          "name": "stderr",
          "text": [
            "[nltk_data] Downloading package punkt to /root/nltk_data...\n",
            "[nltk_data]   Unzipping tokenizers/punkt.zip.\n"
          ]
        },
        {
          "output_type": "execute_result",
          "data": {
            "text/plain": [
              "True"
            ]
          },
          "metadata": {},
          "execution_count": 26
        }
      ]
    },
    {
      "cell_type": "code",
      "source": [
        "#Tokenize all_words\n",
        "tokenized_words = nltk.tokenize.word_tokenize(all_words)"
      ],
      "metadata": {
        "id": "sY1M5kykkepz"
      },
      "execution_count": 27,
      "outputs": []
    },
    {
      "cell_type": "code",
      "source": [
        "#Create a frequency distribution which records the number of times each word has occurred:\n",
        "\n",
        "from nltk.probability import FreqDist\n",
        "\n",
        "fdist = FreqDist(tokenized_words)\n",
        "fdist"
      ],
      "metadata": {
        "colab": {
          "base_uri": "https://localhost:8080/"
        },
        "id": "Y04PLn4Dko5U",
        "outputId": "0bb00ea4-885f-4e31-aab5-5182a6def2a1"
      },
      "execution_count": 28,
      "outputs": [
        {
          "output_type": "execute_result",
          "data": {
            "text/plain": [
              "FreqDist({'year': 4, 'books': 3, 'best': 2, 'kwanzaa': 2, 'holiday': 2, 'season': 2, 'hope': 2, 'christmas': 2, 'getting': 2, 'always': 2, ...})"
            ]
          },
          "metadata": {},
          "execution_count": 28
        }
      ]
    },
    {
      "cell_type": "code",
      "source": [
        "#Now we can use our fdist dictionary to drop words which occur less than a certain amount of times (usually we use a value of 3 or 4).\n",
        "\n",
        "#Since our dataset is really small, we don’t filter out any words and set the value to greater or equal to 1 (otherwise there are not many words left in this particular dataset)\n",
        "\n",
        "\n",
        "df['text_string_fdist'] = df['text_token'].apply(lambda x: ' '.join([item for item in x if fdist[item] >= 1 ]))"
      ],
      "metadata": {
        "id": "V0mbQqo0kqlp"
      },
      "execution_count": 30,
      "outputs": []
    },
    {
      "cell_type": "code",
      "source": [
        "df[['text', 'text_token', 'text_string', 'text_string_fdist']].head()"
      ],
      "metadata": {
        "colab": {
          "base_uri": "https://localhost:8080/",
          "height": 206
        },
        "id": "-uTEjSjnk1yr",
        "outputId": "9054ff31-0c82-48dc-f265-64486fcfe68a"
      },
      "execution_count": 31,
      "outputs": [
        {
          "output_type": "execute_result",
          "data": {
            "text/plain": [
              "                                                text  \\\n",
              "0  michelle and i send our best wishes to familie...   \n",
              "1  merry christmas, everybody! one of the best pa...   \n",
              "2  i always enjoy sharing my end of year music pl...   \n",
              "3  i saw some great movies this year – here are s...   \n",
              "4  i always look forward to sharing my lists of f...   \n",
              "\n",
              "                                          text_token  \\\n",
              "0  [michelle, send, best, wishes, families, celeb...   \n",
              "1  [merry, christmas, everybody, one, best, parts...   \n",
              "2  [always, enjoy, sharing, end, year, music, pla...   \n",
              "3  [saw, great, movies, year, favorites, miss, co...   \n",
              "4  [always, look, forward, sharing, lists, favori...   \n",
              "\n",
              "                                         text_string  \\\n",
              "0  michelle send best wishes families celebrating...   \n",
              "1  merry christmas everybody one best parts holid...   \n",
              "2  always enjoy sharing end year music playlist y...   \n",
              "3    saw great movies year favorites miss vsgemc8cn8   \n",
              "4  always look forward sharing lists favorite boo...   \n",
              "\n",
              "                                   text_string_fdist  \n",
              "0  michelle send best wishes families celebrating...  \n",
              "1  merry christmas everybody one best parts holid...  \n",
              "2  always enjoy sharing end year music playlist y...  \n",
              "3    saw great movies year favorites miss vsgemc8cn8  \n",
              "4  always look forward sharing lists favorite boo...  "
            ],
            "text/html": [
              "\n",
              "  <div id=\"df-32311085-a41e-4e04-9b7f-72560ffe2f35\">\n",
              "    <div class=\"colab-df-container\">\n",
              "      <div>\n",
              "<style scoped>\n",
              "    .dataframe tbody tr th:only-of-type {\n",
              "        vertical-align: middle;\n",
              "    }\n",
              "\n",
              "    .dataframe tbody tr th {\n",
              "        vertical-align: top;\n",
              "    }\n",
              "\n",
              "    .dataframe thead th {\n",
              "        text-align: right;\n",
              "    }\n",
              "</style>\n",
              "<table border=\"1\" class=\"dataframe\">\n",
              "  <thead>\n",
              "    <tr style=\"text-align: right;\">\n",
              "      <th></th>\n",
              "      <th>text</th>\n",
              "      <th>text_token</th>\n",
              "      <th>text_string</th>\n",
              "      <th>text_string_fdist</th>\n",
              "    </tr>\n",
              "  </thead>\n",
              "  <tbody>\n",
              "    <tr>\n",
              "      <th>0</th>\n",
              "      <td>michelle and i send our best wishes to familie...</td>\n",
              "      <td>[michelle, send, best, wishes, families, celeb...</td>\n",
              "      <td>michelle send best wishes families celebrating...</td>\n",
              "      <td>michelle send best wishes families celebrating...</td>\n",
              "    </tr>\n",
              "    <tr>\n",
              "      <th>1</th>\n",
              "      <td>merry christmas, everybody! one of the best pa...</td>\n",
              "      <td>[merry, christmas, everybody, one, best, parts...</td>\n",
              "      <td>merry christmas everybody one best parts holid...</td>\n",
              "      <td>merry christmas everybody one best parts holid...</td>\n",
              "    </tr>\n",
              "    <tr>\n",
              "      <th>2</th>\n",
              "      <td>i always enjoy sharing my end of year music pl...</td>\n",
              "      <td>[always, enjoy, sharing, end, year, music, pla...</td>\n",
              "      <td>always enjoy sharing end year music playlist y...</td>\n",
              "      <td>always enjoy sharing end year music playlist y...</td>\n",
              "    </tr>\n",
              "    <tr>\n",
              "      <th>3</th>\n",
              "      <td>i saw some great movies this year – here are s...</td>\n",
              "      <td>[saw, great, movies, year, favorites, miss, co...</td>\n",
              "      <td>saw great movies year favorites miss vsgemc8cn8</td>\n",
              "      <td>saw great movies year favorites miss vsgemc8cn8</td>\n",
              "    </tr>\n",
              "    <tr>\n",
              "      <th>4</th>\n",
              "      <td>i always look forward to sharing my lists of f...</td>\n",
              "      <td>[always, look, forward, sharing, lists, favori...</td>\n",
              "      <td>always look forward sharing lists favorite boo...</td>\n",
              "      <td>always look forward sharing lists favorite boo...</td>\n",
              "    </tr>\n",
              "  </tbody>\n",
              "</table>\n",
              "</div>\n",
              "      <button class=\"colab-df-convert\" onclick=\"convertToInteractive('df-32311085-a41e-4e04-9b7f-72560ffe2f35')\"\n",
              "              title=\"Convert this dataframe to an interactive table.\"\n",
              "              style=\"display:none;\">\n",
              "        \n",
              "  <svg xmlns=\"http://www.w3.org/2000/svg\" height=\"24px\"viewBox=\"0 0 24 24\"\n",
              "       width=\"24px\">\n",
              "    <path d=\"M0 0h24v24H0V0z\" fill=\"none\"/>\n",
              "    <path d=\"M18.56 5.44l.94 2.06.94-2.06 2.06-.94-2.06-.94-.94-2.06-.94 2.06-2.06.94zm-11 1L8.5 8.5l.94-2.06 2.06-.94-2.06-.94L8.5 2.5l-.94 2.06-2.06.94zm10 10l.94 2.06.94-2.06 2.06-.94-2.06-.94-.94-2.06-.94 2.06-2.06.94z\"/><path d=\"M17.41 7.96l-1.37-1.37c-.4-.4-.92-.59-1.43-.59-.52 0-1.04.2-1.43.59L10.3 9.45l-7.72 7.72c-.78.78-.78 2.05 0 2.83L4 21.41c.39.39.9.59 1.41.59.51 0 1.02-.2 1.41-.59l7.78-7.78 2.81-2.81c.8-.78.8-2.07 0-2.86zM5.41 20L4 18.59l7.72-7.72 1.47 1.35L5.41 20z\"/>\n",
              "  </svg>\n",
              "      </button>\n",
              "      \n",
              "  <style>\n",
              "    .colab-df-container {\n",
              "      display:flex;\n",
              "      flex-wrap:wrap;\n",
              "      gap: 12px;\n",
              "    }\n",
              "\n",
              "    .colab-df-convert {\n",
              "      background-color: #E8F0FE;\n",
              "      border: none;\n",
              "      border-radius: 50%;\n",
              "      cursor: pointer;\n",
              "      display: none;\n",
              "      fill: #1967D2;\n",
              "      height: 32px;\n",
              "      padding: 0 0 0 0;\n",
              "      width: 32px;\n",
              "    }\n",
              "\n",
              "    .colab-df-convert:hover {\n",
              "      background-color: #E2EBFA;\n",
              "      box-shadow: 0px 1px 2px rgba(60, 64, 67, 0.3), 0px 1px 3px 1px rgba(60, 64, 67, 0.15);\n",
              "      fill: #174EA6;\n",
              "    }\n",
              "\n",
              "    [theme=dark] .colab-df-convert {\n",
              "      background-color: #3B4455;\n",
              "      fill: #D2E3FC;\n",
              "    }\n",
              "\n",
              "    [theme=dark] .colab-df-convert:hover {\n",
              "      background-color: #434B5C;\n",
              "      box-shadow: 0px 1px 3px 1px rgba(0, 0, 0, 0.15);\n",
              "      filter: drop-shadow(0px 1px 2px rgba(0, 0, 0, 0.3));\n",
              "      fill: #FFFFFF;\n",
              "    }\n",
              "  </style>\n",
              "\n",
              "      <script>\n",
              "        const buttonEl =\n",
              "          document.querySelector('#df-32311085-a41e-4e04-9b7f-72560ffe2f35 button.colab-df-convert');\n",
              "        buttonEl.style.display =\n",
              "          google.colab.kernel.accessAllowed ? 'block' : 'none';\n",
              "\n",
              "        async function convertToInteractive(key) {\n",
              "          const element = document.querySelector('#df-32311085-a41e-4e04-9b7f-72560ffe2f35');\n",
              "          const dataTable =\n",
              "            await google.colab.kernel.invokeFunction('convertToInteractive',\n",
              "                                                     [key], {});\n",
              "          if (!dataTable) return;\n",
              "\n",
              "          const docLinkHtml = 'Like what you see? Visit the ' +\n",
              "            '<a target=\"_blank\" href=https://colab.research.google.com/notebooks/data_table.ipynb>data table notebook</a>'\n",
              "            + ' to learn more about interactive tables.';\n",
              "          element.innerHTML = '';\n",
              "          dataTable['output_type'] = 'display_data';\n",
              "          await google.colab.output.renderOutput(dataTable, element);\n",
              "          const docLink = document.createElement('div');\n",
              "          docLink.innerHTML = docLinkHtml;\n",
              "          element.appendChild(docLink);\n",
              "        }\n",
              "      </script>\n",
              "    </div>\n",
              "  </div>\n",
              "  "
            ]
          },
          "metadata": {},
          "execution_count": 31
        }
      ]
    },
    {
      "cell_type": "markdown",
      "source": [
        "#Lemmatization\n",
        "\n",
        "\n",
        "Next, we perfom lemmatization."
      ],
      "metadata": {
        "id": "CoeBp6BNk_iI"
      }
    },
    {
      "cell_type": "code",
      "source": [
        "nltk.download('wordnet')\n",
        "nltk.download('omw-1.4')"
      ],
      "metadata": {
        "colab": {
          "base_uri": "https://localhost:8080/"
        },
        "id": "x96tKyxqlAEj",
        "outputId": "cee99f2a-857a-4f0b-c592-2614db2cbe83"
      },
      "execution_count": 32,
      "outputs": [
        {
          "output_type": "stream",
          "name": "stderr",
          "text": [
            "[nltk_data] Downloading package wordnet to /root/nltk_data...\n",
            "[nltk_data] Downloading package omw-1.4 to /root/nltk_data...\n"
          ]
        },
        {
          "output_type": "execute_result",
          "data": {
            "text/plain": [
              "True"
            ]
          },
          "metadata": {},
          "execution_count": 32
        }
      ]
    },
    {
      "cell_type": "code",
      "source": [
        "from nltk.stem import WordNetLemmatizer\n",
        "\n",
        "wordnet_lem = WordNetLemmatizer()\n",
        "\n",
        "df['text_string_lem'] = df['text_string_fdist'].apply(wordnet_lem.lemmatize)"
      ],
      "metadata": {
        "id": "vGtOVVp3lEkY"
      },
      "execution_count": 33,
      "outputs": []
    },
    {
      "cell_type": "code",
      "source": [
        "# check if the columns are equal\n",
        "df['is_equal']= (df['text_string_fdist']==df['text_string_lem'])"
      ],
      "metadata": {
        "id": "i_umMr2qlG61"
      },
      "execution_count": 34,
      "outputs": []
    },
    {
      "cell_type": "code",
      "source": [
        "# show level count\n",
        "df.is_equal.value_counts()"
      ],
      "metadata": {
        "colab": {
          "base_uri": "https://localhost:8080/"
        },
        "id": "EkoZGB_qlJmw",
        "outputId": "1aecf4bf-073d-459c-99b1-04fdca90e237"
      },
      "execution_count": 35,
      "outputs": [
        {
          "output_type": "execute_result",
          "data": {
            "text/plain": [
              "True    6\n",
              "Name: is_equal, dtype: int64"
            ]
          },
          "metadata": {},
          "execution_count": 35
        }
      ]
    },
    {
      "cell_type": "code",
      "source": [
        "df"
      ],
      "metadata": {
        "colab": {
          "base_uri": "https://localhost:8080/",
          "height": 490
        },
        "id": "_LvxH9_clMhr",
        "outputId": "aeba74f8-888a-4627-dd1b-e2f2ba3cb35f"
      },
      "execution_count": 36,
      "outputs": [
        {
          "output_type": "execute_result",
          "data": {
            "text/plain": [
              "  edit_history_tweet_ids                                               text  \\\n",
              "0  [1607411252409556993]  michelle and i send our best wishes to familie...   \n",
              "1  [1607022409160458240]  merry christmas, everybody! one of the best pa...   \n",
              "2  [1606432044602605568]  i always enjoy sharing my end of year music pl...   \n",
              "3  [1606356531385143297]  i saw some great movies this year – here are s...   \n",
              "4  [1606303906211979269]  i always look forward to sharing my lists of f...   \n",
              "5  [1605665894155186176]  i grew up watching franco harris, and had the ...   \n",
              "\n",
              "                 created_at author_id                   id  \\\n",
              "0  2022-12-26T16:21:21.000Z    813286  1607411252409556993   \n",
              "1  2022-12-25T14:36:14.000Z    813286  1607022409160458240   \n",
              "2  2022-12-23T23:30:20.000Z    813286  1606432044602605568   \n",
              "3  2022-12-23T18:30:16.000Z    813286  1606356531385143297   \n",
              "4  2022-12-23T15:01:09.000Z    813286  1606303906211979269   \n",
              "5  2022-12-21T20:45:55.000Z    813286  1605665894155186176   \n",
              "\n",
              "                                          text_token  \\\n",
              "0  [michelle, send, best, wishes, families, celeb...   \n",
              "1  [merry, christmas, everybody, one, best, parts...   \n",
              "2  [always, enjoy, sharing, end, year, music, pla...   \n",
              "3  [saw, great, movies, year, favorites, miss, co...   \n",
              "4  [always, look, forward, sharing, lists, favori...   \n",
              "5  [grew, watching, franco, harris, honor, gettin...   \n",
              "\n",
              "                                         text_string  \\\n",
              "0  michelle send best wishes families celebrating...   \n",
              "1  merry christmas everybody one best parts holid...   \n",
              "2  always enjoy sharing end year music playlist y...   \n",
              "3    saw great movies year favorites miss vsgemc8cn8   \n",
              "4  always look forward sharing lists favorite boo...   \n",
              "5  grew watching franco harris honor getting know...   \n",
              "\n",
              "                                   text_string_fdist  \\\n",
              "0  michelle send best wishes families celebrating...   \n",
              "1  merry christmas everybody one best parts holid...   \n",
              "2  always enjoy sharing end year music playlist y...   \n",
              "3    saw great movies year favorites miss vsgemc8cn8   \n",
              "4  always look forward sharing lists favorite boo...   \n",
              "5  grew watching franco harris honor getting know...   \n",
              "\n",
              "                                     text_string_lem  is_equal  \n",
              "0  michelle send best wishes families celebrating...      True  \n",
              "1  merry christmas everybody one best parts holid...      True  \n",
              "2  always enjoy sharing end year music playlist y...      True  \n",
              "3    saw great movies year favorites miss vsgemc8cn8      True  \n",
              "4  always look forward sharing lists favorite boo...      True  \n",
              "5  grew watching franco harris honor getting know...      True  "
            ],
            "text/html": [
              "\n",
              "  <div id=\"df-2fad207f-f3fc-43aa-ace7-b09e799e9bea\">\n",
              "    <div class=\"colab-df-container\">\n",
              "      <div>\n",
              "<style scoped>\n",
              "    .dataframe tbody tr th:only-of-type {\n",
              "        vertical-align: middle;\n",
              "    }\n",
              "\n",
              "    .dataframe tbody tr th {\n",
              "        vertical-align: top;\n",
              "    }\n",
              "\n",
              "    .dataframe thead th {\n",
              "        text-align: right;\n",
              "    }\n",
              "</style>\n",
              "<table border=\"1\" class=\"dataframe\">\n",
              "  <thead>\n",
              "    <tr style=\"text-align: right;\">\n",
              "      <th></th>\n",
              "      <th>edit_history_tweet_ids</th>\n",
              "      <th>text</th>\n",
              "      <th>created_at</th>\n",
              "      <th>author_id</th>\n",
              "      <th>id</th>\n",
              "      <th>text_token</th>\n",
              "      <th>text_string</th>\n",
              "      <th>text_string_fdist</th>\n",
              "      <th>text_string_lem</th>\n",
              "      <th>is_equal</th>\n",
              "    </tr>\n",
              "  </thead>\n",
              "  <tbody>\n",
              "    <tr>\n",
              "      <th>0</th>\n",
              "      <td>[1607411252409556993]</td>\n",
              "      <td>michelle and i send our best wishes to familie...</td>\n",
              "      <td>2022-12-26T16:21:21.000Z</td>\n",
              "      <td>813286</td>\n",
              "      <td>1607411252409556993</td>\n",
              "      <td>[michelle, send, best, wishes, families, celeb...</td>\n",
              "      <td>michelle send best wishes families celebrating...</td>\n",
              "      <td>michelle send best wishes families celebrating...</td>\n",
              "      <td>michelle send best wishes families celebrating...</td>\n",
              "      <td>True</td>\n",
              "    </tr>\n",
              "    <tr>\n",
              "      <th>1</th>\n",
              "      <td>[1607022409160458240]</td>\n",
              "      <td>merry christmas, everybody! one of the best pa...</td>\n",
              "      <td>2022-12-25T14:36:14.000Z</td>\n",
              "      <td>813286</td>\n",
              "      <td>1607022409160458240</td>\n",
              "      <td>[merry, christmas, everybody, one, best, parts...</td>\n",
              "      <td>merry christmas everybody one best parts holid...</td>\n",
              "      <td>merry christmas everybody one best parts holid...</td>\n",
              "      <td>merry christmas everybody one best parts holid...</td>\n",
              "      <td>True</td>\n",
              "    </tr>\n",
              "    <tr>\n",
              "      <th>2</th>\n",
              "      <td>[1606432044602605568]</td>\n",
              "      <td>i always enjoy sharing my end of year music pl...</td>\n",
              "      <td>2022-12-23T23:30:20.000Z</td>\n",
              "      <td>813286</td>\n",
              "      <td>1606432044602605568</td>\n",
              "      <td>[always, enjoy, sharing, end, year, music, pla...</td>\n",
              "      <td>always enjoy sharing end year music playlist y...</td>\n",
              "      <td>always enjoy sharing end year music playlist y...</td>\n",
              "      <td>always enjoy sharing end year music playlist y...</td>\n",
              "      <td>True</td>\n",
              "    </tr>\n",
              "    <tr>\n",
              "      <th>3</th>\n",
              "      <td>[1606356531385143297]</td>\n",
              "      <td>i saw some great movies this year – here are s...</td>\n",
              "      <td>2022-12-23T18:30:16.000Z</td>\n",
              "      <td>813286</td>\n",
              "      <td>1606356531385143297</td>\n",
              "      <td>[saw, great, movies, year, favorites, miss, co...</td>\n",
              "      <td>saw great movies year favorites miss vsgemc8cn8</td>\n",
              "      <td>saw great movies year favorites miss vsgemc8cn8</td>\n",
              "      <td>saw great movies year favorites miss vsgemc8cn8</td>\n",
              "      <td>True</td>\n",
              "    </tr>\n",
              "    <tr>\n",
              "      <th>4</th>\n",
              "      <td>[1606303906211979269]</td>\n",
              "      <td>i always look forward to sharing my lists of f...</td>\n",
              "      <td>2022-12-23T15:01:09.000Z</td>\n",
              "      <td>813286</td>\n",
              "      <td>1606303906211979269</td>\n",
              "      <td>[always, look, forward, sharing, lists, favori...</td>\n",
              "      <td>always look forward sharing lists favorite boo...</td>\n",
              "      <td>always look forward sharing lists favorite boo...</td>\n",
              "      <td>always look forward sharing lists favorite boo...</td>\n",
              "      <td>True</td>\n",
              "    </tr>\n",
              "    <tr>\n",
              "      <th>5</th>\n",
              "      <td>[1605665894155186176]</td>\n",
              "      <td>i grew up watching franco harris, and had the ...</td>\n",
              "      <td>2022-12-21T20:45:55.000Z</td>\n",
              "      <td>813286</td>\n",
              "      <td>1605665894155186176</td>\n",
              "      <td>[grew, watching, franco, harris, honor, gettin...</td>\n",
              "      <td>grew watching franco harris honor getting know...</td>\n",
              "      <td>grew watching franco harris honor getting know...</td>\n",
              "      <td>grew watching franco harris honor getting know...</td>\n",
              "      <td>True</td>\n",
              "    </tr>\n",
              "  </tbody>\n",
              "</table>\n",
              "</div>\n",
              "      <button class=\"colab-df-convert\" onclick=\"convertToInteractive('df-2fad207f-f3fc-43aa-ace7-b09e799e9bea')\"\n",
              "              title=\"Convert this dataframe to an interactive table.\"\n",
              "              style=\"display:none;\">\n",
              "        \n",
              "  <svg xmlns=\"http://www.w3.org/2000/svg\" height=\"24px\"viewBox=\"0 0 24 24\"\n",
              "       width=\"24px\">\n",
              "    <path d=\"M0 0h24v24H0V0z\" fill=\"none\"/>\n",
              "    <path d=\"M18.56 5.44l.94 2.06.94-2.06 2.06-.94-2.06-.94-.94-2.06-.94 2.06-2.06.94zm-11 1L8.5 8.5l.94-2.06 2.06-.94-2.06-.94L8.5 2.5l-.94 2.06-2.06.94zm10 10l.94 2.06.94-2.06 2.06-.94-2.06-.94-.94-2.06-.94 2.06-2.06.94z\"/><path d=\"M17.41 7.96l-1.37-1.37c-.4-.4-.92-.59-1.43-.59-.52 0-1.04.2-1.43.59L10.3 9.45l-7.72 7.72c-.78.78-.78 2.05 0 2.83L4 21.41c.39.39.9.59 1.41.59.51 0 1.02-.2 1.41-.59l7.78-7.78 2.81-2.81c.8-.78.8-2.07 0-2.86zM5.41 20L4 18.59l7.72-7.72 1.47 1.35L5.41 20z\"/>\n",
              "  </svg>\n",
              "      </button>\n",
              "      \n",
              "  <style>\n",
              "    .colab-df-container {\n",
              "      display:flex;\n",
              "      flex-wrap:wrap;\n",
              "      gap: 12px;\n",
              "    }\n",
              "\n",
              "    .colab-df-convert {\n",
              "      background-color: #E8F0FE;\n",
              "      border: none;\n",
              "      border-radius: 50%;\n",
              "      cursor: pointer;\n",
              "      display: none;\n",
              "      fill: #1967D2;\n",
              "      height: 32px;\n",
              "      padding: 0 0 0 0;\n",
              "      width: 32px;\n",
              "    }\n",
              "\n",
              "    .colab-df-convert:hover {\n",
              "      background-color: #E2EBFA;\n",
              "      box-shadow: 0px 1px 2px rgba(60, 64, 67, 0.3), 0px 1px 3px 1px rgba(60, 64, 67, 0.15);\n",
              "      fill: #174EA6;\n",
              "    }\n",
              "\n",
              "    [theme=dark] .colab-df-convert {\n",
              "      background-color: #3B4455;\n",
              "      fill: #D2E3FC;\n",
              "    }\n",
              "\n",
              "    [theme=dark] .colab-df-convert:hover {\n",
              "      background-color: #434B5C;\n",
              "      box-shadow: 0px 1px 3px 1px rgba(0, 0, 0, 0.15);\n",
              "      filter: drop-shadow(0px 1px 2px rgba(0, 0, 0, 0.3));\n",
              "      fill: #FFFFFF;\n",
              "    }\n",
              "  </style>\n",
              "\n",
              "      <script>\n",
              "        const buttonEl =\n",
              "          document.querySelector('#df-2fad207f-f3fc-43aa-ace7-b09e799e9bea button.colab-df-convert');\n",
              "        buttonEl.style.display =\n",
              "          google.colab.kernel.accessAllowed ? 'block' : 'none';\n",
              "\n",
              "        async function convertToInteractive(key) {\n",
              "          const element = document.querySelector('#df-2fad207f-f3fc-43aa-ace7-b09e799e9bea');\n",
              "          const dataTable =\n",
              "            await google.colab.kernel.invokeFunction('convertToInteractive',\n",
              "                                                     [key], {});\n",
              "          if (!dataTable) return;\n",
              "\n",
              "          const docLinkHtml = 'Like what you see? Visit the ' +\n",
              "            '<a target=\"_blank\" href=https://colab.research.google.com/notebooks/data_table.ipynb>data table notebook</a>'\n",
              "            + ' to learn more about interactive tables.';\n",
              "          element.innerHTML = '';\n",
              "          dataTable['output_type'] = 'display_data';\n",
              "          await google.colab.output.renderOutput(dataTable, element);\n",
              "          const docLink = document.createElement('div');\n",
              "          docLink.innerHTML = docLinkHtml;\n",
              "          element.appendChild(docLink);\n",
              "        }\n",
              "      </script>\n",
              "    </div>\n",
              "  </div>\n",
              "  "
            ]
          },
          "metadata": {},
          "execution_count": 36
        }
      ]
    },
    {
      "cell_type": "markdown",
      "source": [
        "#Word cloud"
      ],
      "metadata": {
        "id": "ko_ncrlFlT3E"
      }
    },
    {
      "cell_type": "code",
      "source": [
        "pip install wordcloud"
      ],
      "metadata": {
        "colab": {
          "base_uri": "https://localhost:8080/"
        },
        "id": "yDYD3omwlTfN",
        "outputId": "7216f898-e666-404e-a750-5844aaef87b8"
      },
      "execution_count": 39,
      "outputs": [
        {
          "output_type": "stream",
          "name": "stdout",
          "text": [
            "Looking in indexes: https://pypi.org/simple, https://us-python.pkg.dev/colab-wheels/public/simple/\n",
            "Requirement already satisfied: wordcloud in /usr/local/lib/python3.8/dist-packages (1.8.2.2)\n",
            "Requirement already satisfied: pillow in /usr/local/lib/python3.8/dist-packages (from wordcloud) (7.1.2)\n",
            "Requirement already satisfied: matplotlib in /usr/local/lib/python3.8/dist-packages (from wordcloud) (3.2.2)\n",
            "Requirement already satisfied: numpy>=1.6.1 in /usr/local/lib/python3.8/dist-packages (from wordcloud) (1.21.6)\n",
            "Requirement already satisfied: kiwisolver>=1.0.1 in /usr/local/lib/python3.8/dist-packages (from matplotlib->wordcloud) (1.4.4)\n",
            "Requirement already satisfied: python-dateutil>=2.1 in /usr/local/lib/python3.8/dist-packages (from matplotlib->wordcloud) (2.8.2)\n",
            "Requirement already satisfied: cycler>=0.10 in /usr/local/lib/python3.8/dist-packages (from matplotlib->wordcloud) (0.11.0)\n",
            "Requirement already satisfied: pyparsing!=2.0.4,!=2.1.2,!=2.1.6,>=2.0.1 in /usr/local/lib/python3.8/dist-packages (from matplotlib->wordcloud) (3.0.9)\n",
            "Requirement already satisfied: six>=1.5 in /usr/local/lib/python3.8/dist-packages (from python-dateutil>=2.1->matplotlib->wordcloud) (1.15.0)\n"
          ]
        }
      ]
    },
    {
      "cell_type": "code",
      "source": [
        "import wordcloud"
      ],
      "metadata": {
        "id": "-GvlKkfLlRjE"
      },
      "execution_count": 40,
      "outputs": []
    },
    {
      "cell_type": "code",
      "source": [
        "all_words_lem = ' '.join([word for word in df['text_string_lem']])"
      ],
      "metadata": {
        "id": "QFWuoErrlh2z"
      },
      "execution_count": 41,
      "outputs": []
    },
    {
      "cell_type": "code",
      "source": [
        "%matplotlib inline\n",
        "import matplotlib.pyplot as plt\n",
        "from wordcloud import WordCloud\n",
        "\n",
        "wordcloud = WordCloud(width=600, \n",
        "                     height=400, \n",
        "                     random_state=2, \n",
        "                     max_font_size=100).generate(all_words_lem)\n",
        "\n",
        "plt.figure(figsize=(10, 7))\n",
        "plt.imshow(wordcloud, interpolation='bilinear')\n",
        "plt.axis('off');"
      ],
      "metadata": {
        "colab": {
          "base_uri": "https://localhost:8080/",
          "height": 403
        },
        "id": "PEDFjC5jlkqA",
        "outputId": "afd4bde6-20a3-42e5-f2a8-a84000cceb2a"
      },
      "execution_count": 42,
      "outputs": [
        {
          "output_type": "display_data",
          "data": {
            "text/plain": [
              "<Figure size 720x504 with 1 Axes>"
            ],
            "image/png": "[encoded data removed]"
          },
          "metadata": {
            "needs_background": "light"
          }
        }
      ]
    },
    {
      "cell_type": "code",
      "source": [
        "import numpy as np\n",
        "\n",
        "x, y = np.ogrid[:300, :300]\n",
        "mask = (x - 150) ** 2 + (y - 150) ** 2 > 130 ** 2\n",
        "mask = 255 * mask.astype(int)\n",
        "\n",
        "wc = WordCloud(background_color=\"white\", repeat=True, mask=mask)\n",
        "wc.generate(all_words_lem)\n",
        "\n",
        "plt.axis(\"off\")\n",
        "plt.imshow(wc, interpolation=\"bilinear\");\n"
      ],
      "metadata": {
        "colab": {
          "base_uri": "https://localhost:8080/",
          "height": 248
        },
        "id": "eatHHU5hlnna",
        "outputId": "0b312006-e288-4b7a-9bb9-f56413ffac3b"
      },
      "execution_count": 43,
      "outputs": [
        {
          "output_type": "display_data",
          "data": {
            "text/plain": [
              "<Figure size 432x288 with 1 Axes>"
            ],
            "image/png": "[encoded data removed]"
          },
          "metadata": {
            "needs_background": "light"
          }
        }
      ]
    },
    {
      "cell_type": "markdown",
      "source": [
        "Frequency distributions"
      ],
      "metadata": {
        "id": "2-MnJ_wXltaU"
      }
    },
    {
      "cell_type": "code",
      "source": [
        "nltk.download('punkt')"
      ],
      "metadata": {
        "colab": {
          "base_uri": "https://localhost:8080/"
        },
        "id": "9pVHK_aVlqYr",
        "outputId": "17b97f28-1078-449a-c255-b98da563f43e"
      },
      "execution_count": 44,
      "outputs": [
        {
          "output_type": "stream",
          "name": "stderr",
          "text": [
            "[nltk_data] Downloading package punkt to /root/nltk_data...\n",
            "[nltk_data]   Package punkt is already up-to-date!\n"
          ]
        },
        {
          "output_type": "execute_result",
          "data": {
            "text/plain": [
              "True"
            ]
          },
          "metadata": {},
          "execution_count": 44
        }
      ]
    },
    {
      "cell_type": "code",
      "source": [
        "from nltk.tokenize import word_tokenize\n",
        "from nltk.probability import FreqDist\n",
        "\n",
        "words = nltk.word_tokenize(all_words_lem)\n",
        "fd = FreqDist(words)"
      ],
      "metadata": {
        "id": "dt-7E5cglwik"
      },
      "execution_count": 45,
      "outputs": []
    },
    {
      "cell_type": "code",
      "source": [
        "fd.most_common(3)"
      ],
      "metadata": {
        "colab": {
          "base_uri": "https://localhost:8080/"
        },
        "id": "b1yJPc87lyru",
        "outputId": "5044c62e-38a5-4152-c80f-d674c06e36e4"
      },
      "execution_count": 46,
      "outputs": [
        {
          "output_type": "execute_result",
          "data": {
            "text/plain": [
              "[('year', 4), ('books', 3), ('best', 2)]"
            ]
          },
          "metadata": {},
          "execution_count": 46
        }
      ]
    },
    {
      "cell_type": "code",
      "source": [
        "fd.tabulate(3)"
      ],
      "metadata": {
        "colab": {
          "base_uri": "https://localhost:8080/"
        },
        "id": "9IEL-Rkel03M",
        "outputId": "2c785bfd-959d-4f54-bbf1-e792e3043b62"
      },
      "execution_count": 47,
      "outputs": [
        {
          "output_type": "stream",
          "name": "stdout",
          "text": [
            " year books  best \n",
            "    4     3     2 \n"
          ]
        }
      ]
    },
    {
      "cell_type": "code",
      "source": [
        "# Obtain top 10 words\n",
        "top_10 = fd.most_common(10)\n",
        "\n",
        "# Create pandas series to make plotting easier\n",
        "fdist = pd.Series(dict(top_10))"
      ],
      "metadata": {
        "id": "oAPrgoH6l6hl"
      },
      "execution_count": 48,
      "outputs": []
    },
    {
      "cell_type": "code",
      "source": [
        "import seaborn as sns\n",
        "sns.set_theme(style=\"ticks\")\n",
        "\n",
        "sns.barplot(y=fdist.index, x=fdist.values, color='blue')"
      ],
      "metadata": {
        "colab": {
          "base_uri": "https://localhost:8080/",
          "height": 285
        },
        "id": "BZjMXXo7l7Nl",
        "outputId": "ec9187ae-c2b3-419f-cca8-526569ed1284"
      },
      "execution_count": 49,
      "outputs": [
        {
          "output_type": "execute_result",
          "data": {
            "text/plain": [
              "<matplotlib.axes._subplots.AxesSubplot at 0x7f36ccfde3a0>"
            ]
          },
          "metadata": {},
          "execution_count": 49
        },
        {
          "output_type": "display_data",
          "data": {
            "text/plain": [
              "<Figure size 432x288 with 1 Axes>"
            ],
            "image/png": "[encoded data removed]"
          },
          "metadata": {}
        }
      ]
    },
    {
      "cell_type": "markdown",
      "source": [
        "#Sentiment analysis\n",
        "VADER lexicon\n",
        "NLTK provides a simple rule-based model for general sentiment analysis called VADER, which stands for “Valence Aware Dictionary and Sentiment Reasoner” (Hutto & Gilbert, 2014)."
      ],
      "metadata": {
        "id": "ktVjXGgsmCJa"
      }
    },
    {
      "cell_type": "code",
      "source": [
        "nltk.download('vader_lexicon')"
      ],
      "metadata": {
        "colab": {
          "base_uri": "https://localhost:8080/"
        },
        "id": "K0oQpkMhl-UQ",
        "outputId": "ee5f8a4a-46d4-4c8e-f5b3-1f640f9faf2f"
      },
      "execution_count": 50,
      "outputs": [
        {
          "output_type": "stream",
          "name": "stderr",
          "text": [
            "[nltk_data] Downloading package vader_lexicon to /root/nltk_data...\n"
          ]
        },
        {
          "output_type": "execute_result",
          "data": {
            "text/plain": [
              "True"
            ]
          },
          "metadata": {},
          "execution_count": 50
        }
      ]
    },
    {
      "cell_type": "markdown",
      "source": [
        "\n",
        "Sentiment Intensity Analyzer\n",
        "\n",
        "Initialize an object of SentimentIntensityAnalyzer with name “analyzer”:"
      ],
      "metadata": {
        "id": "dEmTmJzWmIEr"
      }
    },
    {
      "cell_type": "code",
      "source": [
        "from nltk.sentiment import SentimentIntensityAnalyzer\n",
        "\n",
        "analyzer = SentimentIntensityAnalyzer()"
      ],
      "metadata": {
        "id": "rPKLJ_hlmKLL"
      },
      "execution_count": 51,
      "outputs": []
    },
    {
      "cell_type": "markdown",
      "source": [
        "#Polarity scores\n",
        "\n",
        "\n",
        "Use the polarity_scores method:"
      ],
      "metadata": {
        "id": "oXXHXcRrmM3m"
      }
    },
    {
      "cell_type": "code",
      "source": [
        "df['polarity'] = df['text_string_lem'].apply(lambda x: analyzer.polarity_scores(x))\n",
        "df.tail(3)"
      ],
      "metadata": {
        "colab": {
          "base_uri": "https://localhost:8080/",
          "height": 344
        },
        "id": "u8x0XXXQmiRM",
        "outputId": "2ba99013-a624-4f1c-dfb3-98b575529257"
      },
      "execution_count": 52,
      "outputs": [
        {
          "output_type": "execute_result",
          "data": {
            "text/plain": [
              "  edit_history_tweet_ids                                               text  \\\n",
              "3  [1606356531385143297]  i saw some great movies this year – here are s...   \n",
              "4  [1606303906211979269]  i always look forward to sharing my lists of f...   \n",
              "5  [1605665894155186176]  i grew up watching franco harris, and had the ...   \n",
              "\n",
              "                 created_at author_id                   id  \\\n",
              "3  2022-12-23T18:30:16.000Z    813286  1606356531385143297   \n",
              "4  2022-12-23T15:01:09.000Z    813286  1606303906211979269   \n",
              "5  2022-12-21T20:45:55.000Z    813286  1605665894155186176   \n",
              "\n",
              "                                          text_token  \\\n",
              "3  [saw, great, movies, year, favorites, miss, co...   \n",
              "4  [always, look, forward, sharing, lists, favori...   \n",
              "5  [grew, watching, franco, harris, honor, gettin...   \n",
              "\n",
              "                                         text_string  \\\n",
              "3    saw great movies year favorites miss vsgemc8cn8   \n",
              "4  always look forward sharing lists favorite boo...   \n",
              "5  grew watching franco harris honor getting know...   \n",
              "\n",
              "                                   text_string_fdist  \\\n",
              "3    saw great movies year favorites miss vsgemc8cn8   \n",
              "4  always look forward sharing lists favorite boo...   \n",
              "5  grew watching franco harris honor getting know...   \n",
              "\n",
              "                                     text_string_lem  is_equal  \\\n",
              "3    saw great movies year favorites miss vsgemc8cn8      True   \n",
              "4  always look forward sharing lists favorite boo...      True   \n",
              "5  grew watching franco harris honor getting know...      True   \n",
              "\n",
              "                                            polarity  \n",
              "3  {'neg': 0.128, 'neu': 0.32, 'pos': 0.552, 'com...  \n",
              "4  {'neg': 0.0, 'neu': 0.651, 'pos': 0.349, 'comp...  \n",
              "5  {'neg': 0.108, 'neu': 0.735, 'pos': 0.157, 'co...  "
            ],
            "text/html": [
              "\n",
              "  <div id=\"df-ce4b9aef-c34a-450e-98c8-7dedb92cd005\">\n",
              "    <div class=\"colab-df-container\">\n",
              "      <div>\n",
              "<style scoped>\n",
              "    .dataframe tbody tr th:only-of-type {\n",
              "        vertical-align: middle;\n",
              "    }\n",
              "\n",
              "    .dataframe tbody tr th {\n",
              "        vertical-align: top;\n",
              "    }\n",
              "\n",
              "    .dataframe thead th {\n",
              "        text-align: right;\n",
              "    }\n",
              "</style>\n",
              "<table border=\"1\" class=\"dataframe\">\n",
              "  <thead>\n",
              "    <tr style=\"text-align: right;\">\n",
              "      <th></th>\n",
              "      <th>edit_history_tweet_ids</th>\n",
              "      <th>text</th>\n",
              "      <th>created_at</th>\n",
              "      <th>author_id</th>\n",
              "      <th>id</th>\n",
              "      <th>text_token</th>\n",
              "      <th>text_string</th>\n",
              "      <th>text_string_fdist</th>\n",
              "      <th>text_string_lem</th>\n",
              "      <th>is_equal</th>\n",
              "      <th>polarity</th>\n",
              "    </tr>\n",
              "  </thead>\n",
              "  <tbody>\n",
              "    <tr>\n",
              "      <th>3</th>\n",
              "      <td>[1606356531385143297]</td>\n",
              "      <td>i saw some great movies this year – here are s...</td>\n",
              "      <td>2022-12-23T18:30:16.000Z</td>\n",
              "      <td>813286</td>\n",
              "      <td>1606356531385143297</td>\n",
              "      <td>[saw, great, movies, year, favorites, miss, co...</td>\n",
              "      <td>saw great movies year favorites miss vsgemc8cn8</td>\n",
              "      <td>saw great movies year favorites miss vsgemc8cn8</td>\n",
              "      <td>saw great movies year favorites miss vsgemc8cn8</td>\n",
              "      <td>True</td>\n",
              "      <td>{'neg': 0.128, 'neu': 0.32, 'pos': 0.552, 'com...</td>\n",
              "    </tr>\n",
              "    <tr>\n",
              "      <th>4</th>\n",
              "      <td>[1606303906211979269]</td>\n",
              "      <td>i always look forward to sharing my lists of f...</td>\n",
              "      <td>2022-12-23T15:01:09.000Z</td>\n",
              "      <td>813286</td>\n",
              "      <td>1606303906211979269</td>\n",
              "      <td>[always, look, forward, sharing, lists, favori...</td>\n",
              "      <td>always look forward sharing lists favorite boo...</td>\n",
              "      <td>always look forward sharing lists favorite boo...</td>\n",
              "      <td>always look forward sharing lists favorite boo...</td>\n",
              "      <td>True</td>\n",
              "      <td>{'neg': 0.0, 'neu': 0.651, 'pos': 0.349, 'comp...</td>\n",
              "    </tr>\n",
              "    <tr>\n",
              "      <th>5</th>\n",
              "      <td>[1605665894155186176]</td>\n",
              "      <td>i grew up watching franco harris, and had the ...</td>\n",
              "      <td>2022-12-21T20:45:55.000Z</td>\n",
              "      <td>813286</td>\n",
              "      <td>1605665894155186176</td>\n",
              "      <td>[grew, watching, franco, harris, honor, gettin...</td>\n",
              "      <td>grew watching franco harris honor getting know...</td>\n",
              "      <td>grew watching franco harris honor getting know...</td>\n",
              "      <td>grew watching franco harris honor getting know...</td>\n",
              "      <td>True</td>\n",
              "      <td>{'neg': 0.108, 'neu': 0.735, 'pos': 0.157, 'co...</td>\n",
              "    </tr>\n",
              "  </tbody>\n",
              "</table>\n",
              "</div>\n",
              "      <button class=\"colab-df-convert\" onclick=\"convertToInteractive('df-ce4b9aef-c34a-450e-98c8-7dedb92cd005')\"\n",
              "              title=\"Convert this dataframe to an interactive table.\"\n",
              "              style=\"display:none;\">\n",
              "        \n",
              "  <svg xmlns=\"http://www.w3.org/2000/svg\" height=\"24px\"viewBox=\"0 0 24 24\"\n",
              "       width=\"24px\">\n",
              "    <path d=\"M0 0h24v24H0V0z\" fill=\"none\"/>\n",
              "    <path d=\"M18.56 5.44l.94 2.06.94-2.06 2.06-.94-2.06-.94-.94-2.06-.94 2.06-2.06.94zm-11 1L8.5 8.5l.94-2.06 2.06-.94-2.06-.94L8.5 2.5l-.94 2.06-2.06.94zm10 10l.94 2.06.94-2.06 2.06-.94-2.06-.94-.94-2.06-.94 2.06-2.06.94z\"/><path d=\"M17.41 7.96l-1.37-1.37c-.4-.4-.92-.59-1.43-.59-.52 0-1.04.2-1.43.59L10.3 9.45l-7.72 7.72c-.78.78-.78 2.05 0 2.83L4 21.41c.39.39.9.59 1.41.59.51 0 1.02-.2 1.41-.59l7.78-7.78 2.81-2.81c.8-.78.8-2.07 0-2.86zM5.41 20L4 18.59l7.72-7.72 1.47 1.35L5.41 20z\"/>\n",
              "  </svg>\n",
              "      </button>\n",
              "      \n",
              "  <style>\n",
              "    .colab-df-container {\n",
              "      display:flex;\n",
              "      flex-wrap:wrap;\n",
              "      gap: 12px;\n",
              "    }\n",
              "\n",
              "    .colab-df-convert {\n",
              "      background-color: #E8F0FE;\n",
              "      border: none;\n",
              "      border-radius: 50%;\n",
              "      cursor: pointer;\n",
              "      display: none;\n",
              "      fill: #1967D2;\n",
              "      height: 32px;\n",
              "      padding: 0 0 0 0;\n",
              "      width: 32px;\n",
              "    }\n",
              "\n",
              "    .colab-df-convert:hover {\n",
              "      background-color: #E2EBFA;\n",
              "      box-shadow: 0px 1px 2px rgba(60, 64, 67, 0.3), 0px 1px 3px 1px rgba(60, 64, 67, 0.15);\n",
              "      fill: #174EA6;\n",
              "    }\n",
              "\n",
              "    [theme=dark] .colab-df-convert {\n",
              "      background-color: #3B4455;\n",
              "      fill: #D2E3FC;\n",
              "    }\n",
              "\n",
              "    [theme=dark] .colab-df-convert:hover {\n",
              "      background-color: #434B5C;\n",
              "      box-shadow: 0px 1px 3px 1px rgba(0, 0, 0, 0.15);\n",
              "      filter: drop-shadow(0px 1px 2px rgba(0, 0, 0, 0.3));\n",
              "      fill: #FFFFFF;\n",
              "    }\n",
              "  </style>\n",
              "\n",
              "      <script>\n",
              "        const buttonEl =\n",
              "          document.querySelector('#df-ce4b9aef-c34a-450e-98c8-7dedb92cd005 button.colab-df-convert');\n",
              "        buttonEl.style.display =\n",
              "          google.colab.kernel.accessAllowed ? 'block' : 'none';\n",
              "\n",
              "        async function convertToInteractive(key) {\n",
              "          const element = document.querySelector('#df-ce4b9aef-c34a-450e-98c8-7dedb92cd005');\n",
              "          const dataTable =\n",
              "            await google.colab.kernel.invokeFunction('convertToInteractive',\n",
              "                                                     [key], {});\n",
              "          if (!dataTable) return;\n",
              "\n",
              "          const docLinkHtml = 'Like what you see? Visit the ' +\n",
              "            '<a target=\"_blank\" href=https://colab.research.google.com/notebooks/data_table.ipynb>data table notebook</a>'\n",
              "            + ' to learn more about interactive tables.';\n",
              "          element.innerHTML = '';\n",
              "          dataTable['output_type'] = 'display_data';\n",
              "          await google.colab.output.renderOutput(dataTable, element);\n",
              "          const docLink = document.createElement('div');\n",
              "          docLink.innerHTML = docLinkHtml;\n",
              "          element.appendChild(docLink);\n",
              "        }\n",
              "      </script>\n",
              "    </div>\n",
              "  </div>\n",
              "  "
            ]
          },
          "metadata": {},
          "execution_count": 52
        }
      ]
    },
    {
      "cell_type": "markdown",
      "source": [
        "#Transform data"
      ],
      "metadata": {
        "id": "GVrHwxA4mo8z"
      }
    },
    {
      "cell_type": "code",
      "source": [
        "# Change data structure\n",
        "df = pd.concat(\n",
        "    [df.drop(['id', 'author_id', 'polarity'], axis=1), \n",
        "     df['polarity'].apply(pd.Series)], axis=1)\n",
        "df.head(3)\n"
      ],
      "metadata": {
        "colab": {
          "base_uri": "https://localhost:8080/",
          "height": 292
        },
        "id": "lhZ8eOXjmnp8",
        "outputId": "1f0e6df1-7f8a-43c9-b9fa-24eb33e4106a"
      },
      "execution_count": 55,
      "outputs": [
        {
          "output_type": "execute_result",
          "data": {
            "text/plain": [
              "  edit_history_tweet_ids                                               text  \\\n",
              "0  [1607411252409556993]  michelle and i send our best wishes to familie...   \n",
              "1  [1607022409160458240]  merry christmas, everybody! one of the best pa...   \n",
              "2  [1606432044602605568]  i always enjoy sharing my end of year music pl...   \n",
              "\n",
              "                 created_at  \\\n",
              "0  2022-12-26T16:21:21.000Z   \n",
              "1  2022-12-25T14:36:14.000Z   \n",
              "2  2022-12-23T23:30:20.000Z   \n",
              "\n",
              "                                          text_token  \\\n",
              "0  [michelle, send, best, wishes, families, celeb...   \n",
              "1  [merry, christmas, everybody, one, best, parts...   \n",
              "2  [always, enjoy, sharing, end, year, music, pla...   \n",
              "\n",
              "                                         text_string  \\\n",
              "0  michelle send best wishes families celebrating...   \n",
              "1  merry christmas everybody one best parts holid...   \n",
              "2  always enjoy sharing end year music playlist y...   \n",
              "\n",
              "                                   text_string_fdist  \\\n",
              "0  michelle send best wishes families celebrating...   \n",
              "1  merry christmas everybody one best parts holid...   \n",
              "2  always enjoy sharing end year music playlist y...   \n",
              "\n",
              "                                     text_string_lem  is_equal  neg    neu  \\\n",
              "0  michelle send best wishes families celebrating...      True  0.0  0.515   \n",
              "1  merry christmas everybody one best parts holid...      True  0.0  0.337   \n",
              "2  always enjoy sharing end year music playlist y...      True  0.0  0.502   \n",
              "\n",
              "     pos  compound  \n",
              "0  0.485    0.9571  \n",
              "1  0.663    0.9738  \n",
              "2  0.498    0.9169  "
            ],
            "text/html": [
              "\n",
              "  <div id=\"df-0ba0ee1d-1c80-4d5e-9692-bc7d151be5a3\">\n",
              "    <div class=\"colab-df-container\">\n",
              "      <div>\n",
              "<style scoped>\n",
              "    .dataframe tbody tr th:only-of-type {\n",
              "        vertical-align: middle;\n",
              "    }\n",
              "\n",
              "    .dataframe tbody tr th {\n",
              "        vertical-align: top;\n",
              "    }\n",
              "\n",
              "    .dataframe thead th {\n",
              "        text-align: right;\n",
              "    }\n",
              "</style>\n",
              "<table border=\"1\" class=\"dataframe\">\n",
              "  <thead>\n",
              "    <tr style=\"text-align: right;\">\n",
              "      <th></th>\n",
              "      <th>edit_history_tweet_ids</th>\n",
              "      <th>text</th>\n",
              "      <th>created_at</th>\n",
              "      <th>text_token</th>\n",
              "      <th>text_string</th>\n",
              "      <th>text_string_fdist</th>\n",
              "      <th>text_string_lem</th>\n",
              "      <th>is_equal</th>\n",
              "      <th>neg</th>\n",
              "      <th>neu</th>\n",
              "      <th>pos</th>\n",
              "      <th>compound</th>\n",
              "    </tr>\n",
              "  </thead>\n",
              "  <tbody>\n",
              "    <tr>\n",
              "      <th>0</th>\n",
              "      <td>[1607411252409556993]</td>\n",
              "      <td>michelle and i send our best wishes to familie...</td>\n",
              "      <td>2022-12-26T16:21:21.000Z</td>\n",
              "      <td>[michelle, send, best, wishes, families, celeb...</td>\n",
              "      <td>michelle send best wishes families celebrating...</td>\n",
              "      <td>michelle send best wishes families celebrating...</td>\n",
              "      <td>michelle send best wishes families celebrating...</td>\n",
              "      <td>True</td>\n",
              "      <td>0.0</td>\n",
              "      <td>0.515</td>\n",
              "      <td>0.485</td>\n",
              "      <td>0.9571</td>\n",
              "    </tr>\n",
              "    <tr>\n",
              "      <th>1</th>\n",
              "      <td>[1607022409160458240]</td>\n",
              "      <td>merry christmas, everybody! one of the best pa...</td>\n",
              "      <td>2022-12-25T14:36:14.000Z</td>\n",
              "      <td>[merry, christmas, everybody, one, best, parts...</td>\n",
              "      <td>merry christmas everybody one best parts holid...</td>\n",
              "      <td>merry christmas everybody one best parts holid...</td>\n",
              "      <td>merry christmas everybody one best parts holid...</td>\n",
              "      <td>True</td>\n",
              "      <td>0.0</td>\n",
              "      <td>0.337</td>\n",
              "      <td>0.663</td>\n",
              "      <td>0.9738</td>\n",
              "    </tr>\n",
              "    <tr>\n",
              "      <th>2</th>\n",
              "      <td>[1606432044602605568]</td>\n",
              "      <td>i always enjoy sharing my end of year music pl...</td>\n",
              "      <td>2022-12-23T23:30:20.000Z</td>\n",
              "      <td>[always, enjoy, sharing, end, year, music, pla...</td>\n",
              "      <td>always enjoy sharing end year music playlist y...</td>\n",
              "      <td>always enjoy sharing end year music playlist y...</td>\n",
              "      <td>always enjoy sharing end year music playlist y...</td>\n",
              "      <td>True</td>\n",
              "      <td>0.0</td>\n",
              "      <td>0.502</td>\n",
              "      <td>0.498</td>\n",
              "      <td>0.9169</td>\n",
              "    </tr>\n",
              "  </tbody>\n",
              "</table>\n",
              "</div>\n",
              "      <button class=\"colab-df-convert\" onclick=\"convertToInteractive('df-0ba0ee1d-1c80-4d5e-9692-bc7d151be5a3')\"\n",
              "              title=\"Convert this dataframe to an interactive table.\"\n",
              "              style=\"display:none;\">\n",
              "        \n",
              "  <svg xmlns=\"http://www.w3.org/2000/svg\" height=\"24px\"viewBox=\"0 0 24 24\"\n",
              "       width=\"24px\">\n",
              "    <path d=\"M0 0h24v24H0V0z\" fill=\"none\"/>\n",
              "    <path d=\"M18.56 5.44l.94 2.06.94-2.06 2.06-.94-2.06-.94-.94-2.06-.94 2.06-2.06.94zm-11 1L8.5 8.5l.94-2.06 2.06-.94-2.06-.94L8.5 2.5l-.94 2.06-2.06.94zm10 10l.94 2.06.94-2.06 2.06-.94-2.06-.94-.94-2.06-.94 2.06-2.06.94z\"/><path d=\"M17.41 7.96l-1.37-1.37c-.4-.4-.92-.59-1.43-.59-.52 0-1.04.2-1.43.59L10.3 9.45l-7.72 7.72c-.78.78-.78 2.05 0 2.83L4 21.41c.39.39.9.59 1.41.59.51 0 1.02-.2 1.41-.59l7.78-7.78 2.81-2.81c.8-.78.8-2.07 0-2.86zM5.41 20L4 18.59l7.72-7.72 1.47 1.35L5.41 20z\"/>\n",
              "  </svg>\n",
              "      </button>\n",
              "      \n",
              "  <style>\n",
              "    .colab-df-container {\n",
              "      display:flex;\n",
              "      flex-wrap:wrap;\n",
              "      gap: 12px;\n",
              "    }\n",
              "\n",
              "    .colab-df-convert {\n",
              "      background-color: #E8F0FE;\n",
              "      border: none;\n",
              "      border-radius: 50%;\n",
              "      cursor: pointer;\n",
              "      display: none;\n",
              "      fill: #1967D2;\n",
              "      height: 32px;\n",
              "      padding: 0 0 0 0;\n",
              "      width: 32px;\n",
              "    }\n",
              "\n",
              "    .colab-df-convert:hover {\n",
              "      background-color: #E2EBFA;\n",
              "      box-shadow: 0px 1px 2px rgba(60, 64, 67, 0.3), 0px 1px 3px 1px rgba(60, 64, 67, 0.15);\n",
              "      fill: #174EA6;\n",
              "    }\n",
              "\n",
              "    [theme=dark] .colab-df-convert {\n",
              "      background-color: #3B4455;\n",
              "      fill: #D2E3FC;\n",
              "    }\n",
              "\n",
              "    [theme=dark] .colab-df-convert:hover {\n",
              "      background-color: #434B5C;\n",
              "      box-shadow: 0px 1px 3px 1px rgba(0, 0, 0, 0.15);\n",
              "      filter: drop-shadow(0px 1px 2px rgba(0, 0, 0, 0.3));\n",
              "      fill: #FFFFFF;\n",
              "    }\n",
              "  </style>\n",
              "\n",
              "      <script>\n",
              "        const buttonEl =\n",
              "          document.querySelector('#df-0ba0ee1d-1c80-4d5e-9692-bc7d151be5a3 button.colab-df-convert');\n",
              "        buttonEl.style.display =\n",
              "          google.colab.kernel.accessAllowed ? 'block' : 'none';\n",
              "\n",
              "        async function convertToInteractive(key) {\n",
              "          const element = document.querySelector('#df-0ba0ee1d-1c80-4d5e-9692-bc7d151be5a3');\n",
              "          const dataTable =\n",
              "            await google.colab.kernel.invokeFunction('convertToInteractive',\n",
              "                                                     [key], {});\n",
              "          if (!dataTable) return;\n",
              "\n",
              "          const docLinkHtml = 'Like what you see? Visit the ' +\n",
              "            '<a target=\"_blank\" href=https://colab.research.google.com/notebooks/data_table.ipynb>data table notebook</a>'\n",
              "            + ' to learn more about interactive tables.';\n",
              "          element.innerHTML = '';\n",
              "          dataTable['output_type'] = 'display_data';\n",
              "          await google.colab.output.renderOutput(dataTable, element);\n",
              "          const docLink = document.createElement('div');\n",
              "          docLink.innerHTML = docLinkHtml;\n",
              "          element.appendChild(docLink);\n",
              "        }\n",
              "      </script>\n",
              "    </div>\n",
              "  </div>\n",
              "  "
            ]
          },
          "metadata": {},
          "execution_count": 55
        }
      ]
    },
    {
      "cell_type": "code",
      "source": [
        "# Create new variable with sentiment \"neutral,\" \"positive\" and \"negative\"\n",
        "df['sentiment'] = df['compound'].apply(lambda x: 'positive' if x >0 else 'neutral' if x==0 else 'negative')\n",
        "df.head(4)"
      ],
      "metadata": {
        "colab": {
          "base_uri": "https://localhost:8080/",
          "height": 392
        },
        "id": "gLJz25yam5l9",
        "outputId": "1e85acf3-9138-477c-bd32-6028d339d8e6"
      },
      "execution_count": 56,
      "outputs": [
        {
          "output_type": "execute_result",
          "data": {
            "text/plain": [
              "  edit_history_tweet_ids                                               text  \\\n",
              "0  [1607411252409556993]  michelle and i send our best wishes to familie...   \n",
              "1  [1607022409160458240]  merry christmas, everybody! one of the best pa...   \n",
              "2  [1606432044602605568]  i always enjoy sharing my end of year music pl...   \n",
              "3  [1606356531385143297]  i saw some great movies this year – here are s...   \n",
              "\n",
              "                 created_at  \\\n",
              "0  2022-12-26T16:21:21.000Z   \n",
              "1  2022-12-25T14:36:14.000Z   \n",
              "2  2022-12-23T23:30:20.000Z   \n",
              "3  2022-12-23T18:30:16.000Z   \n",
              "\n",
              "                                          text_token  \\\n",
              "0  [michelle, send, best, wishes, families, celeb...   \n",
              "1  [merry, christmas, everybody, one, best, parts...   \n",
              "2  [always, enjoy, sharing, end, year, music, pla...   \n",
              "3  [saw, great, movies, year, favorites, miss, co...   \n",
              "\n",
              "                                         text_string  \\\n",
              "0  michelle send best wishes families celebrating...   \n",
              "1  merry christmas everybody one best parts holid...   \n",
              "2  always enjoy sharing end year music playlist y...   \n",
              "3    saw great movies year favorites miss vsgemc8cn8   \n",
              "\n",
              "                                   text_string_fdist  \\\n",
              "0  michelle send best wishes families celebrating...   \n",
              "1  merry christmas everybody one best parts holid...   \n",
              "2  always enjoy sharing end year music playlist y...   \n",
              "3    saw great movies year favorites miss vsgemc8cn8   \n",
              "\n",
              "                                     text_string_lem  is_equal    neg    neu  \\\n",
              "0  michelle send best wishes families celebrating...      True  0.000  0.515   \n",
              "1  merry christmas everybody one best parts holid...      True  0.000  0.337   \n",
              "2  always enjoy sharing end year music playlist y...      True  0.000  0.502   \n",
              "3    saw great movies year favorites miss vsgemc8cn8      True  0.128  0.320   \n",
              "\n",
              "     pos  compound sentiment  \n",
              "0  0.485    0.9571  positive  \n",
              "1  0.663    0.9738  positive  \n",
              "2  0.498    0.9169  positive  \n",
              "3  0.552    0.7430  positive  "
            ],
            "text/html": [
              "\n",
              "  <div id=\"df-95ea9fe8-bca9-40f1-9cea-b4c1e9797d56\">\n",
              "    <div class=\"colab-df-container\">\n",
              "      <div>\n",
              "<style scoped>\n",
              "    .dataframe tbody tr th:only-of-type {\n",
              "        vertical-align: middle;\n",
              "    }\n",
              "\n",
              "    .dataframe tbody tr th {\n",
              "        vertical-align: top;\n",
              "    }\n",
              "\n",
              "    .dataframe thead th {\n",
              "        text-align: right;\n",
              "    }\n",
              "</style>\n",
              "<table border=\"1\" class=\"dataframe\">\n",
              "  <thead>\n",
              "    <tr style=\"text-align: right;\">\n",
              "      <th></th>\n",
              "      <th>edit_history_tweet_ids</th>\n",
              "      <th>text</th>\n",
              "      <th>created_at</th>\n",
              "      <th>text_token</th>\n",
              "      <th>text_string</th>\n",
              "      <th>text_string_fdist</th>\n",
              "      <th>text_string_lem</th>\n",
              "      <th>is_equal</th>\n",
              "      <th>neg</th>\n",
              "      <th>neu</th>\n",
              "      <th>pos</th>\n",
              "      <th>compound</th>\n",
              "      <th>sentiment</th>\n",
              "    </tr>\n",
              "  </thead>\n",
              "  <tbody>\n",
              "    <tr>\n",
              "      <th>0</th>\n",
              "      <td>[1607411252409556993]</td>\n",
              "      <td>michelle and i send our best wishes to familie...</td>\n",
              "      <td>2022-12-26T16:21:21.000Z</td>\n",
              "      <td>[michelle, send, best, wishes, families, celeb...</td>\n",
              "      <td>michelle send best wishes families celebrating...</td>\n",
              "      <td>michelle send best wishes families celebrating...</td>\n",
              "      <td>michelle send best wishes families celebrating...</td>\n",
              "      <td>True</td>\n",
              "      <td>0.000</td>\n",
              "      <td>0.515</td>\n",
              "      <td>0.485</td>\n",
              "      <td>0.9571</td>\n",
              "      <td>positive</td>\n",
              "    </tr>\n",
              "    <tr>\n",
              "      <th>1</th>\n",
              "      <td>[1607022409160458240]</td>\n",
              "      <td>merry christmas, everybody! one of the best pa...</td>\n",
              "      <td>2022-12-25T14:36:14.000Z</td>\n",
              "      <td>[merry, christmas, everybody, one, best, parts...</td>\n",
              "      <td>merry christmas everybody one best parts holid...</td>\n",
              "      <td>merry christmas everybody one best parts holid...</td>\n",
              "      <td>merry christmas everybody one best parts holid...</td>\n",
              "      <td>True</td>\n",
              "      <td>0.000</td>\n",
              "      <td>0.337</td>\n",
              "      <td>0.663</td>\n",
              "      <td>0.9738</td>\n",
              "      <td>positive</td>\n",
              "    </tr>\n",
              "    <tr>\n",
              "      <th>2</th>\n",
              "      <td>[1606432044602605568]</td>\n",
              "      <td>i always enjoy sharing my end of year music pl...</td>\n",
              "      <td>2022-12-23T23:30:20.000Z</td>\n",
              "      <td>[always, enjoy, sharing, end, year, music, pla...</td>\n",
              "      <td>always enjoy sharing end year music playlist y...</td>\n",
              "      <td>always enjoy sharing end year music playlist y...</td>\n",
              "      <td>always enjoy sharing end year music playlist y...</td>\n",
              "      <td>True</td>\n",
              "      <td>0.000</td>\n",
              "      <td>0.502</td>\n",
              "      <td>0.498</td>\n",
              "      <td>0.9169</td>\n",
              "      <td>positive</td>\n",
              "    </tr>\n",
              "    <tr>\n",
              "      <th>3</th>\n",
              "      <td>[1606356531385143297]</td>\n",
              "      <td>i saw some great movies this year – here are s...</td>\n",
              "      <td>2022-12-23T18:30:16.000Z</td>\n",
              "      <td>[saw, great, movies, year, favorites, miss, co...</td>\n",
              "      <td>saw great movies year favorites miss vsgemc8cn8</td>\n",
              "      <td>saw great movies year favorites miss vsgemc8cn8</td>\n",
              "      <td>saw great movies year favorites miss vsgemc8cn8</td>\n",
              "      <td>True</td>\n",
              "      <td>0.128</td>\n",
              "      <td>0.320</td>\n",
              "      <td>0.552</td>\n",
              "      <td>0.7430</td>\n",
              "      <td>positive</td>\n",
              "    </tr>\n",
              "  </tbody>\n",
              "</table>\n",
              "</div>\n",
              "      <button class=\"colab-df-convert\" onclick=\"convertToInteractive('df-95ea9fe8-bca9-40f1-9cea-b4c1e9797d56')\"\n",
              "              title=\"Convert this dataframe to an interactive table.\"\n",
              "              style=\"display:none;\">\n",
              "        \n",
              "  <svg xmlns=\"http://www.w3.org/2000/svg\" height=\"24px\"viewBox=\"0 0 24 24\"\n",
              "       width=\"24px\">\n",
              "    <path d=\"M0 0h24v24H0V0z\" fill=\"none\"/>\n",
              "    <path d=\"M18.56 5.44l.94 2.06.94-2.06 2.06-.94-2.06-.94-.94-2.06-.94 2.06-2.06.94zm-11 1L8.5 8.5l.94-2.06 2.06-.94-2.06-.94L8.5 2.5l-.94 2.06-2.06.94zm10 10l.94 2.06.94-2.06 2.06-.94-2.06-.94-.94-2.06-.94 2.06-2.06.94z\"/><path d=\"M17.41 7.96l-1.37-1.37c-.4-.4-.92-.59-1.43-.59-.52 0-1.04.2-1.43.59L10.3 9.45l-7.72 7.72c-.78.78-.78 2.05 0 2.83L4 21.41c.39.39.9.59 1.41.59.51 0 1.02-.2 1.41-.59l7.78-7.78 2.81-2.81c.8-.78.8-2.07 0-2.86zM5.41 20L4 18.59l7.72-7.72 1.47 1.35L5.41 20z\"/>\n",
              "  </svg>\n",
              "      </button>\n",
              "      \n",
              "  <style>\n",
              "    .colab-df-container {\n",
              "      display:flex;\n",
              "      flex-wrap:wrap;\n",
              "      gap: 12px;\n",
              "    }\n",
              "\n",
              "    .colab-df-convert {\n",
              "      background-color: #E8F0FE;\n",
              "      border: none;\n",
              "      border-radius: 50%;\n",
              "      cursor: pointer;\n",
              "      display: none;\n",
              "      fill: #1967D2;\n",
              "      height: 32px;\n",
              "      padding: 0 0 0 0;\n",
              "      width: 32px;\n",
              "    }\n",
              "\n",
              "    .colab-df-convert:hover {\n",
              "      background-color: #E2EBFA;\n",
              "      box-shadow: 0px 1px 2px rgba(60, 64, 67, 0.3), 0px 1px 3px 1px rgba(60, 64, 67, 0.15);\n",
              "      fill: #174EA6;\n",
              "    }\n",
              "\n",
              "    [theme=dark] .colab-df-convert {\n",
              "      background-color: #3B4455;\n",
              "      fill: #D2E3FC;\n",
              "    }\n",
              "\n",
              "    [theme=dark] .colab-df-convert:hover {\n",
              "      background-color: #434B5C;\n",
              "      box-shadow: 0px 1px 3px 1px rgba(0, 0, 0, 0.15);\n",
              "      filter: drop-shadow(0px 1px 2px rgba(0, 0, 0, 0.3));\n",
              "      fill: #FFFFFF;\n",
              "    }\n",
              "  </style>\n",
              "\n",
              "      <script>\n",
              "        const buttonEl =\n",
              "          document.querySelector('#df-95ea9fe8-bca9-40f1-9cea-b4c1e9797d56 button.colab-df-convert');\n",
              "        buttonEl.style.display =\n",
              "          google.colab.kernel.accessAllowed ? 'block' : 'none';\n",
              "\n",
              "        async function convertToInteractive(key) {\n",
              "          const element = document.querySelector('#df-95ea9fe8-bca9-40f1-9cea-b4c1e9797d56');\n",
              "          const dataTable =\n",
              "            await google.colab.kernel.invokeFunction('convertToInteractive',\n",
              "                                                     [key], {});\n",
              "          if (!dataTable) return;\n",
              "\n",
              "          const docLinkHtml = 'Like what you see? Visit the ' +\n",
              "            '<a target=\"_blank\" href=https://colab.research.google.com/notebooks/data_table.ipynb>data table notebook</a>'\n",
              "            + ' to learn more about interactive tables.';\n",
              "          element.innerHTML = '';\n",
              "          dataTable['output_type'] = 'display_data';\n",
              "          await google.colab.output.renderOutput(dataTable, element);\n",
              "          const docLink = document.createElement('div');\n",
              "          docLink.innerHTML = docLinkHtml;\n",
              "          element.appendChild(docLink);\n",
              "        }\n",
              "      </script>\n",
              "    </div>\n",
              "  </div>\n",
              "  "
            ]
          },
          "metadata": {},
          "execution_count": 56
        }
      ]
    },
    {
      "cell_type": "code",
      "source": [
        "# Tweet with highest negative sentiment \n",
        "# ...seems to be a case of wrong classification because of the word \"deficit\"\n",
        "df.loc[df['compound'].idxmin()].values"
      ],
      "metadata": {
        "colab": {
          "base_uri": "https://localhost:8080/"
        },
        "id": "QFJGQGs1m7jq",
        "outputId": "5c31c381-d745-45b9-c4bd-74a97eee1617"
      },
      "execution_count": 57,
      "outputs": [
        {
          "output_type": "execute_result",
          "data": {
            "text/plain": [
              "array([list(['1605665894155186176']),\n",
              "       'i grew up watching franco harris, and had the honor of getting to know him years later. he was an extraordinary man on and off the field, and will be missed. our thoughts go out to his family and all of steeler nation.',\n",
              "       '2022-12-21T20:45:55.000Z',\n",
              "       list(['grew', 'watching', 'franco', 'harris', 'honor', 'getting', 'know', 'years', 'later', 'extraordinary', 'man', 'field', 'missed', 'thoughts', 'go', 'family', 'steeler', 'nation']),\n",
              "       'grew watching franco harris honor getting know years later extraordinary man field missed thoughts family steeler nation',\n",
              "       'grew watching franco harris honor getting know years later extraordinary man field missed thoughts family steeler nation',\n",
              "       'grew watching franco harris honor getting know years later extraordinary man field missed thoughts family steeler nation',\n",
              "       True, 0.108, 0.735, 0.157, 0.25, 'positive'], dtype=object)"
            ]
          },
          "metadata": {},
          "execution_count": 57
        }
      ]
    },
    {
      "cell_type": "markdown",
      "source": [
        "#Visualization\n",
        " "
      ],
      "metadata": {
        "id": "v4jGeRJcnDip"
      }
    },
    {
      "cell_type": "code",
      "source": [
        "# Number of tweets \n",
        "sns.countplot(y='sentiment', \n",
        "             data=df, \n",
        "             palette=['#b2d8d8',\"#008080\", '#db3d13']\n",
        "             );"
      ],
      "metadata": {
        "colab": {
          "base_uri": "https://localhost:8080/",
          "height": 285
        },
        "id": "f_fYx_mYnFut",
        "outputId": "c8a2517e-c76e-40e9-a3e0-634ca5806697"
      },
      "execution_count": 58,
      "outputs": [
        {
          "output_type": "display_data",
          "data": {
            "text/plain": [
              "<Figure size 432x288 with 1 Axes>"
            ],
            "image/png": "[encoded data removed]"
          },
          "metadata": {}
        }
      ]
    },
    {
      "cell_type": "code",
      "source": [
        "# Lineplot\n",
        "g = sns.lineplot(x='created_at', y='compound', data=df)\n",
        "\n",
        "g.set(xticklabels=[]) \n",
        "g.set(title='Sentiment of Tweets')\n",
        "g.set(xlabel=\"Time\")\n",
        "g.set(ylabel=\"Sentiment\")\n",
        "g.tick_params(bottom=False)\n",
        "\n",
        "g.axhline(0, ls='--', c = 'grey');"
      ],
      "metadata": {
        "colab": {
          "base_uri": "https://localhost:8080/",
          "height": 291
        },
        "id": "Fwr2ENxPnJ2K",
        "outputId": "4619376e-e725-4e9c-9f84-a28c7da1b79b"
      },
      "execution_count": 59,
      "outputs": [
        {
          "output_type": "display_data",
          "data": {
            "text/plain": [
              "<Figure size 432x288 with 1 Axes>"
            ],
            "image/png": "[encoded data removed]"
          },
          "metadata": {}
        }
      ]
    },
    {
      "cell_type": "code",
      "source": [
        "# Boxplot\n",
        "sns.boxplot(y='compound', \n",
        "            x='sentiment',\n",
        "            palette=['#b2d8d8',\"#008080\", '#db3d13'], \n",
        "            data=df);"
      ],
      "metadata": {
        "colab": {
          "base_uri": "https://localhost:8080/",
          "height": 286
        },
        "id": "Ai9VzXhGnNfC",
        "outputId": "d850df15-ee34-45fa-e518-cd240a20b7ec"
      },
      "execution_count": 60,
      "outputs": [
        {
          "output_type": "display_data",
          "data": {
            "text/plain": [
              "<Figure size 432x288 with 1 Axes>"
            ],
            "image/png": "[encoded data removed]"
          },
          "metadata": {}
        }
      ]
    },
    {
      "cell_type": "code",
      "source": [],
      "metadata": {
        "id": "xRMwqeF_nPaq"
      },
      "execution_count": null,
      "outputs": []
    }
  ]
}